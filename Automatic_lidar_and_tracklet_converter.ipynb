{
 "cells": [
  {
   "cell_type": "code",
   "execution_count": 2,
   "metadata": {
    "collapsed": false,
    "deletable": true,
    "editable": true
   },
   "outputs": [],
   "source": [
    "import numpy as np\n",
    "import os\n",
    "import cv2\n",
    "import matplotlib.pyplot as plt\n",
    "%matplotlib inline\n",
    "\n",
    "from kitti_data import pykitti\n",
    "from kitti_data.pykitti.tracklet import parseXML, TRUNC_IN_IMAGE, TRUNC_TRUNCATED\n",
    "from kitti_data.draw import *\n",
    "from kitti_data.io import *"
   ]
  },
  {
   "cell_type": "code",
   "execution_count": 3,
   "metadata": {
    "collapsed": false,
    "deletable": true,
    "editable": true
   },
   "outputs": [],
   "source": [
    "## objs to gt boxes ##\n",
    "def obj_to_gt_boxes3d(objs):\n",
    "\n",
    "    num        = len(objs)\n",
    "    gt_boxes3d = np.zeros((num,8,3),dtype=np.float32)\n",
    "    gt_labels  = np.zeros((num),    dtype=np.int32)\n",
    "\n",
    "    for n in range(num):\n",
    "        obj = objs[n]\n",
    "        b   = obj.box\n",
    "        label = 1 #<todo>\n",
    "\n",
    "        gt_labels [n]=label\n",
    "        gt_boxes3d[n]=b\n",
    "\n",
    "    return  gt_boxes3d, gt_labels\n",
    "\n",
    "def make_lidar(dataset, drive):\n",
    "    directory_2 = './extract_kiti/'+drive+'/lidar'\n",
    "    print(directory_2)\n",
    "    if not os.path.exists(directory_2):\n",
    "        os.makedirs(directory_2)\n",
    "    \n",
    "    num_frames=len(dataset.velo)\n",
    "    for n in range(num_frames):\n",
    "        #print('lidar', n)\n",
    "        lidar = dataset.velo[n]\n",
    "        np.save(directory_2 + '/lidar_' + str(n) + '.npy',lidar)\n",
    "\n",
    "def make_gt_labels(dataset,objects, num_frames, drive):\n",
    "    \n",
    "    dir_3dbox = './extract_kiti/'+drive+'/gt_boxes3d'\n",
    "    dir_rgb_label = './extract_kiti/'+drive+'/gt_labels'\n",
    "    \n",
    "    print(dir_3dbox, dir_rgb_label)\n",
    "    if not os.path.exists(dir_3dbox):\n",
    "        os.makedirs(dir_3dbox)\n",
    "        \n",
    "    if not os.path.exists(dir_rgb_label):\n",
    "        os.makedirs(dir_rgb_label)\n",
    "        \n",
    "    for n in range(num_frames):\n",
    "        #print('gt_boxes3d', n)\n",
    "        objs = objects[n]\n",
    "        gt_boxes3d, gt_labels = obj_to_gt_boxes3d(objs)\n",
    "\n",
    "        np.save(dir_3dbox +  '/gt_boxes3d_' + str(n) + '.npy',gt_boxes3d)\n",
    "        np.save(dir_rgb_label + '/gt_labels_' + str(n) + '.npy',gt_labels)"
   ]
  },
  {
   "cell_type": "code",
   "execution_count": 4,
   "metadata": {
    "collapsed": false,
    "deletable": true,
    "editable": true
   },
   "outputs": [],
   "source": [
    "def automata(index):\n",
    "    global drive\n",
    "    directory='/home/hanbin/Desktop/Udacity_challenge/Training_Dataset' #### CHANGE THIS\n",
    "    basedir = directory\n",
    "    date = '2011_09_26'\n",
    "    drive = index\n",
    "    \n",
    "    # The range argument is optional - default is None, which loads the whole dataset\n",
    "    dataset = pykitti.raw(basedir, date, drive) #, range(0, 50, 5))\n",
    "\n",
    "    # Load some data\n",
    "    dataset.load_calib()         # Calibration data are accessible as named tuples\n",
    "    dataset.load_timestamps()    # Timestamps are parsed into datetime objects\n",
    "    dataset.load_oxts()          # OXTS packets are loaded as named tuples\n",
    "    #dataset.load_gray()         # Left/right images are accessible as named tuples\n",
    "    #dataset.load_rgb()          # Left/right images are accessible as named tuples\n",
    "    dataset.load_velo()          # Each scan is a Nx4 array of [x,y,z,reflectance]\n",
    "\n",
    "    tracklet_file = directory+'/'+date+'/'+date+'_drive_'+drive+'_'+'sync/tracklet_labels.xml'\n",
    "\n",
    "    num_frames=len(dataset.velo)\n",
    "\n",
    "    objects = read_objects(tracklet_file, num_frames, findCarOnly=True);\n",
    "\n",
    "    make_lidar(dataset, drive);\n",
    "\n",
    "    make_gt_labels(dataset, objects, num_frames, drive);     "
   ]
  },
  {
   "cell_type": "code",
   "execution_count": 7,
   "metadata": {
    "collapsed": false,
    "deletable": true,
    "editable": true
   },
   "outputs": [
    {
     "name": "stdout",
     "output_type": "stream",
     "text": [
      "Loading OXTS timestamps from 2011_09_26_drive_0001_sync...\n",
      "Found 108 timestamps...\n",
      "done.\n",
      "Loading OXTS data from 2011_09_26_drive_0001_sync...\n",
      "Found 108 OXTS measurements...\n",
      "done.\n",
      "Found 108 Velodyne scans...\n",
      "done.\n",
      "parsing tracklet file /home/hanbin/Desktop/Udacity_challenge/Training_Dataset/2011_09_26/2011_09_26_drive_0001_sync/tracklet_labels.xml\n",
      "file contains 15 tracklets\n",
      "loaded 12 tracklets\n",
      "./extract_kiti/0001/lidar\n"
     ]
    },
    {
     "name": "stderr",
     "output_type": "stream",
     "text": [
      "/home/hanbin/Desktop/Udacity_challenge/our_didi_challenge/kitti_data/pykitti/tracklet.py:273: UserWarning: according to xml information the file has 15 tracklets, but parser found 12!\n",
      "  warn('according to xml information the file has {0} tracklets, but parser found {1}!'.format(nTracklets, trackletIdx))\n"
     ]
    },
    {
     "name": "stdout",
     "output_type": "stream",
     "text": [
      "./extract_kiti/0001/gt_boxes3d ./extract_kiti/0001/gt_labels\n"
     ]
    }
   ],
   "source": [
    "automata('0001') # for a single instance"
   ]
  },
  {
   "cell_type": "code",
   "execution_count": 4,
   "metadata": {
    "collapsed": false,
    "deletable": true,
    "editable": true
   },
   "outputs": [],
   "source": [
    "with open('/home/hanbin/Desktop/Udacity_challenge/Training_Dataset/2011_09_26/index.txt') as f: #### CHANGE THIS\n",
    "    index = f.readlines()\n",
    "index = [x.strip() for x in index]"
   ]
  },
  {
   "cell_type": "code",
   "execution_count": 5,
   "metadata": {
    "collapsed": false,
    "deletable": true,
    "editable": true,
    "scrolled": true
   },
   "outputs": [
    {
     "name": "stdout",
     "output_type": "stream",
     "text": [
      "Loading OXTS timestamps from 2011_09_26_drive_0001_sync...\n",
      "Found 108 timestamps...\n",
      "done.\n",
      "Loading OXTS data from 2011_09_26_drive_0001_sync...\n",
      "Found 108 OXTS measurements...\n",
      "done.\n",
      "Found 108 Velodyne scans...\n",
      "done.\n",
      "('parsing tracklet file', '/home/hanbin/Desktop/Udacity_challenge/Training_Dataset/2011_09_26/2011_09_26_drive_0001_sync/tracklet_labels.xml')\n",
      "('file contains', 15, 'tracklets')\n",
      "('loaded', 12, 'tracklets')\n",
      "./extract_kiti/0001/lidar\n"
     ]
    },
    {
     "name": "stderr",
     "output_type": "stream",
     "text": [
      "kitti_data/pykitti/tracklet.py:267: UserWarning: according to xml information the file has 15 tracklets, but parser found 12!\n",
      "  warn('according to xml information the file has {0} tracklets, but parser found {1}!'.format(nTracklets, trackletIdx))\n"
     ]
    },
    {
     "name": "stdout",
     "output_type": "stream",
     "text": [
      "('./extract_kiti/0001/gt_boxes3d', './extract_kiti/0001/gt_labels')\n",
      "Loading OXTS timestamps from 2011_09_26_drive_0002_sync...\n",
      "Found 77 timestamps...\n",
      "done.\n",
      "Loading OXTS data from 2011_09_26_drive_0002_sync...\n",
      "Found 77 OXTS measurements...\n",
      "done.\n",
      "Found 77 Velodyne scans...\n",
      "done.\n",
      "('parsing tracklet file', '/home/hanbin/Desktop/Udacity_challenge/Training_Dataset/2011_09_26/2011_09_26_drive_0002_sync/tracklet_labels.xml')\n",
      "('file contains', 3, 'tracklets')\n",
      "('loaded', 1, 'tracklets')\n",
      "./extract_kiti/0002/lidar\n",
      "('./extract_kiti/0002/gt_boxes3d', './extract_kiti/0002/gt_labels')\n",
      "Loading OXTS timestamps from 2011_09_26_drive_0005_sync...\n",
      "Found 154 timestamps...\n",
      "done.\n",
      "Loading OXTS data from 2011_09_26_drive_0005_sync...\n",
      "Found 154 OXTS measurements...\n"
     ]
    },
    {
     "name": "stderr",
     "output_type": "stream",
     "text": [
      "kitti_data/pykitti/tracklet.py:267: UserWarning: according to xml information the file has 3 tracklets, but parser found 1!\n",
      "  warn('according to xml information the file has {0} tracklets, but parser found {1}!'.format(nTracklets, trackletIdx))\n"
     ]
    },
    {
     "name": "stdout",
     "output_type": "stream",
     "text": [
      "done.\n",
      "Found 154 Velodyne scans...\n",
      "done.\n",
      "('parsing tracklet file', '/home/hanbin/Desktop/Udacity_challenge/Training_Dataset/2011_09_26/2011_09_26_drive_0005_sync/tracklet_labels.xml')\n",
      "('file contains', 15, 'tracklets')\n",
      "('loaded', 9, 'tracklets')\n",
      "./extract_kiti/0005/lidar\n"
     ]
    },
    {
     "name": "stderr",
     "output_type": "stream",
     "text": [
      "kitti_data/pykitti/tracklet.py:267: UserWarning: according to xml information the file has 15 tracklets, but parser found 9!\n",
      "  warn('according to xml information the file has {0} tracklets, but parser found {1}!'.format(nTracklets, trackletIdx))\n"
     ]
    },
    {
     "name": "stdout",
     "output_type": "stream",
     "text": [
      "('./extract_kiti/0005/gt_boxes3d', './extract_kiti/0005/gt_labels')\n",
      "Loading OXTS timestamps from 2011_09_26_drive_0009_sync...\n",
      "Found 447 timestamps...\n",
      "done.\n",
      "Loading OXTS data from 2011_09_26_drive_0009_sync...\n",
      "Found 447 OXTS measurements...\n",
      "done.\n",
      "Found 443 Velodyne scans...\n",
      "done.\n",
      "('parsing tracklet file', '/home/hanbin/Desktop/Udacity_challenge/Training_Dataset/2011_09_26/2011_09_26_drive_0009_sync/tracklet_labels.xml')\n",
      "('file contains', 98, 'tracklets')\n",
      "('loaded', 89, 'tracklets')\n",
      "./extract_kiti/0009/lidar\n"
     ]
    },
    {
     "name": "stderr",
     "output_type": "stream",
     "text": [
      "kitti_data/pykitti/tracklet.py:267: UserWarning: according to xml information the file has 98 tracklets, but parser found 89!\n",
      "  warn('according to xml information the file has {0} tracklets, but parser found {1}!'.format(nTracklets, trackletIdx))\n"
     ]
    },
    {
     "name": "stdout",
     "output_type": "stream",
     "text": [
      "('./extract_kiti/0009/gt_boxes3d', './extract_kiti/0009/gt_labels')\n",
      "Loading OXTS timestamps from 2011_09_26_drive_0011_sync...\n",
      "Found 233 timestamps...\n",
      "done.\n",
      "Loading OXTS data from 2011_09_26_drive_0011_sync...\n",
      "Found 233 OXTS measurements...\n",
      "done.\n",
      "Found 233 Velodyne scans...\n",
      "done.\n",
      "('parsing tracklet file', '/home/hanbin/Desktop/Udacity_challenge/Training_Dataset/2011_09_26/2011_09_26_drive_0011_sync/tracklet_labels.xml')\n",
      "('file contains', 20, 'tracklets')\n",
      "('loaded', 15, 'tracklets')\n",
      "./extract_kiti/0011/lidar\n"
     ]
    },
    {
     "name": "stderr",
     "output_type": "stream",
     "text": [
      "kitti_data/pykitti/tracklet.py:267: UserWarning: according to xml information the file has 20 tracklets, but parser found 15!\n",
      "  warn('according to xml information the file has {0} tracklets, but parser found {1}!'.format(nTracklets, trackletIdx))\n"
     ]
    },
    {
     "name": "stdout",
     "output_type": "stream",
     "text": [
      "('./extract_kiti/0011/gt_boxes3d', './extract_kiti/0011/gt_labels')\n",
      "Loading OXTS timestamps from 2011_09_26_drive_0013_sync...\n",
      "Found 144 timestamps...\n",
      "done.\n",
      "Loading OXTS data from 2011_09_26_drive_0013_sync...\n",
      "Found 144 OXTS measurements...\n",
      "done.\n",
      "Found 144 Velodyne scans...\n",
      "done.\n",
      "('parsing tracklet file', '/home/hanbin/Desktop/Udacity_challenge/Training_Dataset/2011_09_26/2011_09_26_drive_0013_sync/tracklet_labels.xml')\n",
      "('file contains', 9, 'tracklets')\n",
      "('loaded', 8, 'tracklets')\n",
      "./extract_kiti/0013/lidar\n"
     ]
    },
    {
     "name": "stderr",
     "output_type": "stream",
     "text": [
      "kitti_data/pykitti/tracklet.py:267: UserWarning: according to xml information the file has 9 tracklets, but parser found 8!\n",
      "  warn('according to xml information the file has {0} tracklets, but parser found {1}!'.format(nTracklets, trackletIdx))\n"
     ]
    },
    {
     "name": "stdout",
     "output_type": "stream",
     "text": [
      "('./extract_kiti/0013/gt_boxes3d', './extract_kiti/0013/gt_labels')\n",
      "Loading OXTS timestamps from 2011_09_26_drive_0014_sync...\n",
      "Found 314 timestamps...\n",
      "done.\n",
      "Loading OXTS data from 2011_09_26_drive_0014_sync...\n",
      "Found 314 OXTS measurements...\n",
      "done.\n",
      "Found 314 Velodyne scans...\n",
      "done.\n",
      "('parsing tracklet file', '/home/hanbin/Desktop/Udacity_challenge/Training_Dataset/2011_09_26/2011_09_26_drive_0014_sync/tracklet_labels.xml')\n",
      "('file contains', 41, 'tracklets')\n",
      "('loaded', 26, 'tracklets')\n",
      "./extract_kiti/0014/lidar\n"
     ]
    },
    {
     "name": "stderr",
     "output_type": "stream",
     "text": [
      "kitti_data/pykitti/tracklet.py:267: UserWarning: according to xml information the file has 41 tracklets, but parser found 26!\n",
      "  warn('according to xml information the file has {0} tracklets, but parser found {1}!'.format(nTracklets, trackletIdx))\n"
     ]
    },
    {
     "name": "stdout",
     "output_type": "stream",
     "text": [
      "('./extract_kiti/0014/gt_boxes3d', './extract_kiti/0014/gt_labels')\n",
      "Loading OXTS timestamps from 2011_09_26_drive_0015_sync...\n",
      "Found 297 timestamps...\n",
      "done.\n",
      "Loading OXTS data from 2011_09_26_drive_0015_sync...\n",
      "Found 297 OXTS measurements...\n",
      "done.\n",
      "Found 297 Velodyne scans...\n",
      "done.\n",
      "('parsing tracklet file', '/home/hanbin/Desktop/Udacity_challenge/Training_Dataset/2011_09_26/2011_09_26_drive_0015_sync/tracklet_labels.xml')\n",
      "('file contains', 36, 'tracklets')\n",
      "('loaded', 33, 'tracklets')\n",
      "./extract_kiti/0015/lidar\n"
     ]
    },
    {
     "name": "stderr",
     "output_type": "stream",
     "text": [
      "kitti_data/pykitti/tracklet.py:267: UserWarning: according to xml information the file has 36 tracklets, but parser found 33!\n",
      "  warn('according to xml information the file has {0} tracklets, but parser found {1}!'.format(nTracklets, trackletIdx))\n"
     ]
    },
    {
     "name": "stdout",
     "output_type": "stream",
     "text": [
      "('./extract_kiti/0015/gt_boxes3d', './extract_kiti/0015/gt_labels')\n",
      "Loading OXTS timestamps from 2011_09_26_drive_0017_sync...\n",
      "Found 114 timestamps...\n",
      "done.\n",
      "Loading OXTS data from 2011_09_26_drive_0017_sync...\n",
      "Found 114 OXTS measurements...\n",
      "done.\n",
      "Found 114 Velodyne scans...\n",
      "done.\n",
      "('parsing tracklet file', '/home/hanbin/Desktop/Udacity_challenge/Training_Dataset/2011_09_26/2011_09_26_drive_0017_sync/tracklet_labels.xml')\n",
      "('file contains', 4, 'tracklets')\n",
      "('loaded', 4, 'tracklets')\n",
      "./extract_kiti/0017/lidar\n",
      "('./extract_kiti/0017/gt_boxes3d', './extract_kiti/0017/gt_labels')\n",
      "Loading OXTS timestamps from 2011_09_26_drive_0018_sync...\n",
      "Found 270 timestamps...\n",
      "done.\n",
      "Loading OXTS data from 2011_09_26_drive_0018_sync...\n",
      "Found 270 OXTS measurements...\n",
      "done.\n",
      "Found 270 Velodyne scans...\n",
      "done.\n",
      "('parsing tracklet file', '/home/hanbin/Desktop/Udacity_challenge/Training_Dataset/2011_09_26/2011_09_26_drive_0018_sync/tracklet_labels.xml')\n",
      "('file contains', 15, 'tracklets')\n",
      "('loaded', 11, 'tracklets')\n"
     ]
    },
    {
     "name": "stderr",
     "output_type": "stream",
     "text": [
      "kitti_data/pykitti/tracklet.py:267: UserWarning: according to xml information the file has 15 tracklets, but parser found 11!\n",
      "  warn('according to xml information the file has {0} tracklets, but parser found {1}!'.format(nTracklets, trackletIdx))\n"
     ]
    },
    {
     "name": "stdout",
     "output_type": "stream",
     "text": [
      "./extract_kiti/0018/lidar\n",
      "('./extract_kiti/0018/gt_boxes3d', './extract_kiti/0018/gt_labels')\n",
      "Loading OXTS timestamps from 2011_09_26_drive_0019_sync...\n",
      "Found 481 timestamps...\n",
      "done.\n",
      "Loading OXTS data from 2011_09_26_drive_0019_sync...\n",
      "Found 481 OXTS measurements...\n",
      "done.\n",
      "Found 481 Velodyne scans...\n",
      "done.\n",
      "('parsing tracklet file', '/home/hanbin/Desktop/Udacity_challenge/Training_Dataset/2011_09_26/2011_09_26_drive_0019_sync/tracklet_labels.xml')\n",
      "('file contains', 25, 'tracklets')\n",
      "('loaded', 13, 'tracklets')\n",
      "./extract_kiti/0019/lidar\n"
     ]
    },
    {
     "name": "stderr",
     "output_type": "stream",
     "text": [
      "kitti_data/pykitti/tracklet.py:267: UserWarning: according to xml information the file has 25 tracklets, but parser found 13!\n",
      "  warn('according to xml information the file has {0} tracklets, but parser found {1}!'.format(nTracklets, trackletIdx))\n"
     ]
    },
    {
     "name": "stdout",
     "output_type": "stream",
     "text": [
      "('./extract_kiti/0019/gt_boxes3d', './extract_kiti/0019/gt_labels')\n",
      "Loading OXTS timestamps from 2011_09_26_drive_0020_sync...\n",
      "Found 86 timestamps...\n",
      "done.\n",
      "Loading OXTS data from 2011_09_26_drive_0020_sync...\n",
      "Found 86 OXTS measurements...\n",
      "done.\n",
      "Found 86 Velodyne scans...\n",
      "done.\n",
      "('parsing tracklet file', '/home/hanbin/Desktop/Udacity_challenge/Training_Dataset/2011_09_26/2011_09_26_drive_0020_sync/tracklet_labels.xml')\n",
      "('file contains', 8, 'tracklets')\n",
      "('loaded', 5, 'tracklets')\n",
      "./extract_kiti/0020/lidar\n"
     ]
    },
    {
     "name": "stderr",
     "output_type": "stream",
     "text": [
      "kitti_data/pykitti/tracklet.py:267: UserWarning: according to xml information the file has 8 tracklets, but parser found 5!\n",
      "  warn('according to xml information the file has {0} tracklets, but parser found {1}!'.format(nTracklets, trackletIdx))\n"
     ]
    },
    {
     "name": "stdout",
     "output_type": "stream",
     "text": [
      "('./extract_kiti/0020/gt_boxes3d', './extract_kiti/0020/gt_labels')\n",
      "Loading OXTS timestamps from 2011_09_26_drive_0022_sync...\n",
      "Found 800 timestamps...\n",
      "done.\n",
      "Loading OXTS data from 2011_09_26_drive_0022_sync...\n",
      "Found 800 OXTS measurements...\n",
      "done.\n",
      "Found 800 Velodyne scans...\n",
      "done.\n",
      "('parsing tracklet file', '/home/hanbin/Desktop/Udacity_challenge/Training_Dataset/2011_09_26/2011_09_26_drive_0022_sync/tracklet_labels.xml')\n",
      "('file contains', 63, 'tracklets')\n",
      "('loaded', 53, 'tracklets')\n",
      "./extract_kiti/0022/lidar\n"
     ]
    },
    {
     "name": "stderr",
     "output_type": "stream",
     "text": [
      "kitti_data/pykitti/tracklet.py:267: UserWarning: according to xml information the file has 63 tracklets, but parser found 53!\n",
      "  warn('according to xml information the file has {0} tracklets, but parser found {1}!'.format(nTracklets, trackletIdx))\n"
     ]
    },
    {
     "name": "stdout",
     "output_type": "stream",
     "text": [
      "('./extract_kiti/0022/gt_boxes3d', './extract_kiti/0022/gt_labels')\n",
      "Loading OXTS timestamps from 2011_09_26_drive_0023_sync...\n",
      "Found 474 timestamps...\n",
      "done.\n",
      "Loading OXTS data from 2011_09_26_drive_0023_sync...\n",
      "Found 474 OXTS measurements...\n",
      "done.\n",
      "Found 474 Velodyne scans...\n",
      "done.\n",
      "('parsing tracklet file', '/home/hanbin/Desktop/Udacity_challenge/Training_Dataset/2011_09_26/2011_09_26_drive_0023_sync/tracklet_labels.xml')\n",
      "('file contains', 167, 'tracklets')\n",
      "('loaded', 150, 'tracklets')\n"
     ]
    },
    {
     "name": "stderr",
     "output_type": "stream",
     "text": [
      "kitti_data/pykitti/tracklet.py:267: UserWarning: according to xml information the file has 167 tracklets, but parser found 150!\n",
      "  warn('according to xml information the file has {0} tracklets, but parser found {1}!'.format(nTracklets, trackletIdx))\n"
     ]
    },
    {
     "name": "stdout",
     "output_type": "stream",
     "text": [
      "./extract_kiti/0023/lidar\n",
      "('./extract_kiti/0023/gt_boxes3d', './extract_kiti/0023/gt_labels')\n",
      "Loading OXTS timestamps from 2011_09_26_drive_0027_sync...\n",
      "Found 188 timestamps...\n",
      "done.\n",
      "Loading OXTS data from 2011_09_26_drive_0027_sync...\n",
      "Found 188 OXTS measurements...\n",
      "done.\n",
      "Found 188 Velodyne scans...\n",
      "done.\n",
      "('parsing tracklet file', '/home/hanbin/Desktop/Udacity_challenge/Training_Dataset/2011_09_26/2011_09_26_drive_0027_sync/tracklet_labels.xml')\n",
      "('file contains', 4, 'tracklets')\n",
      "('loaded', 3, 'tracklets')\n",
      "./extract_kiti/0027/lidar\n"
     ]
    },
    {
     "name": "stderr",
     "output_type": "stream",
     "text": [
      "kitti_data/pykitti/tracklet.py:267: UserWarning: according to xml information the file has 4 tracklets, but parser found 3!\n",
      "  warn('according to xml information the file has {0} tracklets, but parser found {1}!'.format(nTracklets, trackletIdx))\n"
     ]
    },
    {
     "name": "stdout",
     "output_type": "stream",
     "text": [
      "('./extract_kiti/0027/gt_boxes3d', './extract_kiti/0027/gt_labels')\n",
      "Loading OXTS timestamps from 2011_09_26_drive_0028_sync...\n",
      "Found 430 timestamps...\n",
      "done.\n",
      "Loading OXTS data from 2011_09_26_drive_0028_sync...\n",
      "Found 430 OXTS measurements...\n",
      "done.\n",
      "Found 430 Velodyne scans...\n",
      "done.\n",
      "('parsing tracklet file', '/home/hanbin/Desktop/Udacity_challenge/Training_Dataset/2011_09_26/2011_09_26_drive_0028_sync/tracklet_labels.xml')\n",
      "('file contains', 10, 'tracklets')\n",
      "('loaded', 9, 'tracklets')\n",
      "./extract_kiti/0028/lidar\n"
     ]
    },
    {
     "name": "stderr",
     "output_type": "stream",
     "text": [
      "kitti_data/pykitti/tracklet.py:267: UserWarning: according to xml information the file has 10 tracklets, but parser found 9!\n",
      "  warn('according to xml information the file has {0} tracklets, but parser found {1}!'.format(nTracklets, trackletIdx))\n"
     ]
    },
    {
     "name": "stdout",
     "output_type": "stream",
     "text": [
      "('./extract_kiti/0028/gt_boxes3d', './extract_kiti/0028/gt_labels')\n",
      "Loading OXTS timestamps from 2011_09_26_drive_0029_sync...\n",
      "Found 430 timestamps...\n",
      "done.\n",
      "Loading OXTS data from 2011_09_26_drive_0029_sync...\n",
      "Found 430 OXTS measurements...\n",
      "done.\n",
      "Found 430 Velodyne scans...\n",
      "done.\n",
      "('parsing tracklet file', '/home/hanbin/Desktop/Udacity_challenge/Training_Dataset/2011_09_26/2011_09_26_drive_0029_sync/tracklet_labels.xml')\n",
      "('file contains', 4, 'tracklets')\n",
      "('loaded', 3, 'tracklets')\n",
      "./extract_kiti/0029/lidar\n",
      "('./extract_kiti/0029/gt_boxes3d', './extract_kiti/0029/gt_labels')\n",
      "Loading OXTS timestamps from 2011_09_26_drive_0032_sync...\n",
      "Found 390 timestamps...\n",
      "done.\n",
      "Loading OXTS data from 2011_09_26_drive_0032_sync...\n",
      "Found 390 OXTS measurements...\n",
      "done.\n",
      "Found 390 Velodyne scans...\n",
      "done.\n",
      "('parsing tracklet file', '/home/hanbin/Desktop/Udacity_challenge/Training_Dataset/2011_09_26/2011_09_26_drive_0032_sync/tracklet_labels.xml')\n",
      "('file contains', 28, 'tracklets')\n",
      "('loaded', 21, 'tracklets')\n",
      "./extract_kiti/0032/lidar\n"
     ]
    },
    {
     "name": "stderr",
     "output_type": "stream",
     "text": [
      "kitti_data/pykitti/tracklet.py:267: UserWarning: according to xml information the file has 28 tracklets, but parser found 21!\n",
      "  warn('according to xml information the file has {0} tracklets, but parser found {1}!'.format(nTracklets, trackletIdx))\n"
     ]
    },
    {
     "name": "stdout",
     "output_type": "stream",
     "text": [
      "('./extract_kiti/0032/gt_boxes3d', './extract_kiti/0032/gt_labels')\n",
      "Loading OXTS timestamps from 2011_09_26_drive_0035_sync...\n",
      "Found 131 timestamps...\n",
      "done.\n",
      "Loading OXTS data from 2011_09_26_drive_0035_sync...\n",
      "Found 131 OXTS measurements...\n",
      "done.\n",
      "Found 131 Velodyne scans...\n",
      "done.\n",
      "('parsing tracklet file', '/home/hanbin/Desktop/Udacity_challenge/Training_Dataset/2011_09_26/2011_09_26_drive_0035_sync/tracklet_labels.xml')\n",
      "('file contains', 37, 'tracklets')\n",
      "('loaded', 23, 'tracklets')\n",
      "./extract_kiti/0035/lidar\n"
     ]
    },
    {
     "name": "stderr",
     "output_type": "stream",
     "text": [
      "kitti_data/pykitti/tracklet.py:267: UserWarning: according to xml information the file has 37 tracklets, but parser found 23!\n",
      "  warn('according to xml information the file has {0} tracklets, but parser found {1}!'.format(nTracklets, trackletIdx))\n"
     ]
    },
    {
     "name": "stdout",
     "output_type": "stream",
     "text": [
      "('./extract_kiti/0035/gt_boxes3d', './extract_kiti/0035/gt_labels')\n",
      "Loading OXTS timestamps from 2011_09_26_drive_0036_sync...\n",
      "Found 803 timestamps...\n",
      "done.\n",
      "Loading OXTS data from 2011_09_26_drive_0036_sync...\n",
      "Found 803 OXTS measurements...\n",
      "done.\n",
      "Found 803 Velodyne scans...\n",
      "done.\n",
      "('parsing tracklet file', '/home/hanbin/Desktop/Udacity_challenge/Training_Dataset/2011_09_26/2011_09_26_drive_0036_sync/tracklet_labels.xml')\n",
      "('file contains', 89, 'tracklets')\n",
      "('loaded', 80, 'tracklets')\n"
     ]
    },
    {
     "name": "stderr",
     "output_type": "stream",
     "text": [
      "kitti_data/pykitti/tracklet.py:267: UserWarning: according to xml information the file has 89 tracklets, but parser found 80!\n",
      "  warn('according to xml information the file has {0} tracklets, but parser found {1}!'.format(nTracklets, trackletIdx))\n"
     ]
    },
    {
     "name": "stdout",
     "output_type": "stream",
     "text": [
      "./extract_kiti/0036/lidar\n",
      "('./extract_kiti/0036/gt_boxes3d', './extract_kiti/0036/gt_labels')\n",
      "Loading OXTS timestamps from 2011_09_26_drive_0039_sync...\n",
      "Found 395 timestamps...\n",
      "done.\n",
      "Loading OXTS data from 2011_09_26_drive_0039_sync...\n",
      "Found 395 OXTS measurements...\n",
      "done.\n",
      "Found 395 Velodyne scans...\n",
      "done.\n",
      "('parsing tracklet file', '/home/hanbin/Desktop/Udacity_challenge/Training_Dataset/2011_09_26/2011_09_26_drive_0039_sync/tracklet_labels.xml')\n",
      "('file contains', 44, 'tracklets')\n",
      "('loaded', 35, 'tracklets')\n",
      "./extract_kiti/0039/lidar\n"
     ]
    },
    {
     "name": "stderr",
     "output_type": "stream",
     "text": [
      "kitti_data/pykitti/tracklet.py:267: UserWarning: according to xml information the file has 44 tracklets, but parser found 35!\n",
      "  warn('according to xml information the file has {0} tracklets, but parser found {1}!'.format(nTracklets, trackletIdx))\n"
     ]
    },
    {
     "name": "stdout",
     "output_type": "stream",
     "text": [
      "('./extract_kiti/0039/gt_boxes3d', './extract_kiti/0039/gt_labels')\n",
      "Loading OXTS timestamps from 2011_09_26_drive_0046_sync...\n",
      "Found 125 timestamps...\n",
      "done.\n",
      "Loading OXTS data from 2011_09_26_drive_0046_sync...\n",
      "Found 125 OXTS measurements...\n",
      "done.\n",
      "Found 125 Velodyne scans...\n",
      "done.\n",
      "('parsing tracklet file', '/home/hanbin/Desktop/Udacity_challenge/Training_Dataset/2011_09_26/2011_09_26_drive_0046_sync/tracklet_labels.xml')\n",
      "('file contains', 9, 'tracklets')\n",
      "('loaded', 8, 'tracklets')\n",
      "./extract_kiti/0046/lidar\n",
      "('./extract_kiti/0046/gt_boxes3d', './extract_kiti/0046/gt_labels')\n",
      "Loading OXTS timestamps from 2011_09_26_drive_0048_sync...\n",
      "Found 22 timestamps...\n",
      "done.\n",
      "Loading OXTS data from 2011_09_26_drive_0048_sync...\n",
      "Found 22 OXTS measurements...\n",
      "done.\n",
      "Found 22 Velodyne scans...\n",
      "done.\n",
      "('parsing tracklet file', '/home/hanbin/Desktop/Udacity_challenge/Training_Dataset/2011_09_26/2011_09_26_drive_0048_sync/tracklet_labels.xml')\n",
      "('file contains', 8, 'tracklets')\n",
      "('loaded', 7, 'tracklets')\n",
      "./extract_kiti/0048/lidar\n",
      "('./extract_kiti/0048/gt_boxes3d', './extract_kiti/0048/gt_labels')\n",
      "Loading OXTS timestamps from 2011_09_26_drive_0051_sync...\n",
      "Found 438 timestamps...\n",
      "done.\n",
      "Loading OXTS data from 2011_09_26_drive_0051_sync...\n",
      "Found 438 OXTS measurements...\n"
     ]
    },
    {
     "name": "stderr",
     "output_type": "stream",
     "text": [
      "kitti_data/pykitti/tracklet.py:267: UserWarning: according to xml information the file has 8 tracklets, but parser found 7!\n",
      "  warn('according to xml information the file has {0} tracklets, but parser found {1}!'.format(nTracklets, trackletIdx))\n"
     ]
    },
    {
     "name": "stdout",
     "output_type": "stream",
     "text": [
      "done.\n",
      "Found 438 Velodyne scans...\n",
      "done.\n",
      "('parsing tracklet file', '/home/hanbin/Desktop/Udacity_challenge/Training_Dataset/2011_09_26/2011_09_26_drive_0051_sync/tracklet_labels.xml')\n",
      "('file contains', 50, 'tracklets')\n",
      "('loaded', 26, 'tracklets')\n",
      "./extract_kiti/0051/lidar\n"
     ]
    },
    {
     "name": "stderr",
     "output_type": "stream",
     "text": [
      "kitti_data/pykitti/tracklet.py:267: UserWarning: according to xml information the file has 50 tracklets, but parser found 26!\n",
      "  warn('according to xml information the file has {0} tracklets, but parser found {1}!'.format(nTracklets, trackletIdx))\n"
     ]
    },
    {
     "name": "stdout",
     "output_type": "stream",
     "text": [
      "('./extract_kiti/0051/gt_boxes3d', './extract_kiti/0051/gt_labels')\n",
      "Loading OXTS timestamps from 2011_09_26_drive_0052_sync...\n",
      "Found 78 timestamps...\n",
      "done.\n",
      "Loading OXTS data from 2011_09_26_drive_0052_sync...\n",
      "Found 78 OXTS measurements...\n",
      "done.\n",
      "Found 78 Velodyne scans...\n",
      "done.\n",
      "('parsing tracklet file', '/home/hanbin/Desktop/Udacity_challenge/Training_Dataset/2011_09_26/2011_09_26_drive_0052_sync/tracklet_labels.xml')\n",
      "('file contains', 9, 'tracklets')\n",
      "('loaded', 4, 'tracklets')\n",
      "./extract_kiti/0052/lidar\n"
     ]
    },
    {
     "name": "stderr",
     "output_type": "stream",
     "text": [
      "kitti_data/pykitti/tracklet.py:267: UserWarning: according to xml information the file has 9 tracklets, but parser found 4!\n",
      "  warn('according to xml information the file has {0} tracklets, but parser found {1}!'.format(nTracklets, trackletIdx))\n"
     ]
    },
    {
     "name": "stdout",
     "output_type": "stream",
     "text": [
      "('./extract_kiti/0052/gt_boxes3d', './extract_kiti/0052/gt_labels')\n",
      "Loading OXTS timestamps from 2011_09_26_drive_0056_sync...\n",
      "Found 294 timestamps...\n",
      "done.\n",
      "Loading OXTS data from 2011_09_26_drive_0056_sync...\n",
      "Found 294 OXTS measurements...\n",
      "done.\n",
      "Found 294 Velodyne scans...\n",
      "done.\n",
      "('parsing tracklet file', '/home/hanbin/Desktop/Udacity_challenge/Training_Dataset/2011_09_26/2011_09_26_drive_0056_sync/tracklet_labels.xml')\n",
      "('file contains', 28, 'tracklets')\n",
      "('loaded', 13, 'tracklets')\n",
      "./extract_kiti/0056/lidar\n"
     ]
    },
    {
     "name": "stderr",
     "output_type": "stream",
     "text": [
      "kitti_data/pykitti/tracklet.py:267: UserWarning: according to xml information the file has 28 tracklets, but parser found 13!\n",
      "  warn('according to xml information the file has {0} tracklets, but parser found {1}!'.format(nTracklets, trackletIdx))\n"
     ]
    },
    {
     "name": "stdout",
     "output_type": "stream",
     "text": [
      "('./extract_kiti/0056/gt_boxes3d', './extract_kiti/0056/gt_labels')\n",
      "Loading OXTS timestamps from 2011_09_26_drive_0057_sync...\n",
      "Found 361 timestamps...\n",
      "done.\n",
      "Loading OXTS data from 2011_09_26_drive_0057_sync...\n",
      "Found 361 OXTS measurements...\n",
      "done.\n",
      "Found 361 Velodyne scans...\n",
      "done.\n",
      "('parsing tracklet file', '/home/hanbin/Desktop/Udacity_challenge/Training_Dataset/2011_09_26/2011_09_26_drive_0057_sync/tracklet_labels.xml')\n",
      "('file contains', 27, 'tracklets')\n",
      "('loaded', 22, 'tracklets')\n",
      "./extract_kiti/0057/lidar\n"
     ]
    },
    {
     "name": "stderr",
     "output_type": "stream",
     "text": [
      "kitti_data/pykitti/tracklet.py:267: UserWarning: according to xml information the file has 27 tracklets, but parser found 22!\n",
      "  warn('according to xml information the file has {0} tracklets, but parser found {1}!'.format(nTracklets, trackletIdx))\n"
     ]
    },
    {
     "name": "stdout",
     "output_type": "stream",
     "text": [
      "('./extract_kiti/0057/gt_boxes3d', './extract_kiti/0057/gt_labels')\n",
      "Loading OXTS timestamps from 2011_09_26_drive_0059_sync...\n",
      "Found 373 timestamps...\n",
      "done.\n",
      "Loading OXTS data from 2011_09_26_drive_0059_sync...\n",
      "Found 373 OXTS measurements...\n",
      "done.\n",
      "Found 373 Velodyne scans...\n",
      "done.\n",
      "('parsing tracklet file', '/home/hanbin/Desktop/Udacity_challenge/Training_Dataset/2011_09_26/2011_09_26_drive_0059_sync/tracklet_labels.xml')\n",
      "('file contains', 60, 'tracklets')\n",
      "('loaded', 52, 'tracklets')\n",
      "./extract_kiti/0059/lidar\n"
     ]
    },
    {
     "name": "stderr",
     "output_type": "stream",
     "text": [
      "kitti_data/pykitti/tracklet.py:267: UserWarning: according to xml information the file has 60 tracklets, but parser found 52!\n",
      "  warn('according to xml information the file has {0} tracklets, but parser found {1}!'.format(nTracklets, trackletIdx))\n"
     ]
    },
    {
     "name": "stdout",
     "output_type": "stream",
     "text": [
      "('./extract_kiti/0059/gt_boxes3d', './extract_kiti/0059/gt_labels')\n",
      "Loading OXTS timestamps from 2011_09_26_drive_0060_sync...\n",
      "Found 78 timestamps...\n",
      "done.\n",
      "Loading OXTS data from 2011_09_26_drive_0060_sync...\n",
      "Found 78 OXTS measurements...\n",
      "done.\n",
      "Found 78 Velodyne scans...\n",
      "done.\n",
      "('parsing tracklet file', '/home/hanbin/Desktop/Udacity_challenge/Training_Dataset/2011_09_26/2011_09_26_drive_0060_sync/tracklet_labels.xml')\n",
      "('file contains', 4, 'tracklets')\n",
      "('loaded', 2, 'tracklets')\n",
      "./extract_kiti/0060/lidar\n",
      "('./extract_kiti/0060/gt_boxes3d', './extract_kiti/0060/gt_labels')\n",
      "Loading OXTS timestamps from 2011_09_26_drive_0061_sync...\n"
     ]
    },
    {
     "name": "stderr",
     "output_type": "stream",
     "text": [
      "kitti_data/pykitti/tracklet.py:267: UserWarning: according to xml information the file has 4 tracklets, but parser found 2!\n",
      "  warn('according to xml information the file has {0} tracklets, but parser found {1}!'.format(nTracklets, trackletIdx))\n"
     ]
    },
    {
     "name": "stdout",
     "output_type": "stream",
     "text": [
      "Found 703 timestamps...\n",
      "done.\n",
      "Loading OXTS data from 2011_09_26_drive_0061_sync...\n",
      "Found 703 OXTS measurements...\n",
      "done.\n",
      "Found 703 Velodyne scans...\n",
      "done.\n",
      "('parsing tracklet file', '/home/hanbin/Desktop/Udacity_challenge/Training_Dataset/2011_09_26/2011_09_26_drive_0061_sync/tracklet_labels.xml')\n",
      "('file contains', 43, 'tracklets')\n",
      "('loaded', 39, 'tracklets')\n",
      "./extract_kiti/0061/lidar\n"
     ]
    },
    {
     "name": "stderr",
     "output_type": "stream",
     "text": [
      "kitti_data/pykitti/tracklet.py:267: UserWarning: according to xml information the file has 43 tracklets, but parser found 39!\n",
      "  warn('according to xml information the file has {0} tracklets, but parser found {1}!'.format(nTracklets, trackletIdx))\n"
     ]
    },
    {
     "name": "stdout",
     "output_type": "stream",
     "text": [
      "('./extract_kiti/0061/gt_boxes3d', './extract_kiti/0061/gt_labels')\n",
      "Loading OXTS timestamps from 2011_09_26_drive_0064_sync...\n",
      "Found 570 timestamps...\n",
      "done.\n",
      "Loading OXTS data from 2011_09_26_drive_0064_sync...\n",
      "Found 570 OXTS measurements...\n",
      "done.\n",
      "Found 570 Velodyne scans...\n",
      "done.\n",
      "('parsing tracklet file', '/home/hanbin/Desktop/Udacity_challenge/Training_Dataset/2011_09_26/2011_09_26_drive_0064_sync/tracklet_labels.xml')\n",
      "('file contains', 49, 'tracklets')\n",
      "('loaded', 38, 'tracklets')\n",
      "./extract_kiti/0064/lidar\n"
     ]
    },
    {
     "name": "stderr",
     "output_type": "stream",
     "text": [
      "kitti_data/pykitti/tracklet.py:267: UserWarning: according to xml information the file has 49 tracklets, but parser found 38!\n",
      "  warn('according to xml information the file has {0} tracklets, but parser found {1}!'.format(nTracklets, trackletIdx))\n"
     ]
    },
    {
     "name": "stdout",
     "output_type": "stream",
     "text": [
      "('./extract_kiti/0064/gt_boxes3d', './extract_kiti/0064/gt_labels')\n",
      "Loading OXTS timestamps from 2011_09_26_drive_0070_sync...\n",
      "Found 420 timestamps...\n",
      "done.\n",
      "Loading OXTS data from 2011_09_26_drive_0070_sync...\n",
      "Found 420 OXTS measurements...\n",
      "done.\n",
      "Found 420 Velodyne scans...\n",
      "done.\n",
      "('parsing tracklet file', '/home/hanbin/Desktop/Udacity_challenge/Training_Dataset/2011_09_26/2011_09_26_drive_0070_sync/tracklet_labels.xml')\n",
      "('file contains', 8, 'tracklets')\n",
      "('loaded', 2, 'tracklets')\n",
      "./extract_kiti/0070/lidar\n"
     ]
    },
    {
     "name": "stderr",
     "output_type": "stream",
     "text": [
      "kitti_data/pykitti/tracklet.py:267: UserWarning: according to xml information the file has 8 tracklets, but parser found 2!\n",
      "  warn('according to xml information the file has {0} tracklets, but parser found {1}!'.format(nTracklets, trackletIdx))\n"
     ]
    },
    {
     "name": "stdout",
     "output_type": "stream",
     "text": [
      "('./extract_kiti/0070/gt_boxes3d', './extract_kiti/0070/gt_labels')\n",
      "Loading OXTS timestamps from 2011_09_26_drive_0079_sync...\n",
      "Found 100 timestamps...\n",
      "done.\n",
      "Loading OXTS data from 2011_09_26_drive_0079_sync...\n",
      "Found 100 OXTS measurements...\n",
      "done.\n",
      "Found 100 Velodyne scans...\n",
      "done.\n",
      "('parsing tracklet file', '/home/hanbin/Desktop/Udacity_challenge/Training_Dataset/2011_09_26/2011_09_26_drive_0079_sync/tracklet_labels.xml')\n",
      "('file contains', 2, 'tracklets')\n",
      "('loaded', 2, 'tracklets')\n",
      "./extract_kiti/0079/lidar\n",
      "('./extract_kiti/0079/gt_boxes3d', './extract_kiti/0079/gt_labels')\n",
      "Loading OXTS timestamps from 2011_09_26_drive_0084_sync...\n",
      "Found 383 timestamps...\n",
      "done.\n",
      "Loading OXTS data from 2011_09_26_drive_0084_sync...\n",
      "Found 383 OXTS measurements...\n",
      "done.\n",
      "Found 383 Velodyne scans...\n",
      "done.\n",
      "('parsing tracklet file', '/home/hanbin/Desktop/Udacity_challenge/Training_Dataset/2011_09_26/2011_09_26_drive_0084_sync/tracklet_labels.xml')\n",
      "('file contains', 56, 'tracklets')\n",
      "('loaded', 49, 'tracklets')\n",
      "./extract_kiti/0084/lidar\n"
     ]
    },
    {
     "name": "stderr",
     "output_type": "stream",
     "text": [
      "kitti_data/pykitti/tracklet.py:267: UserWarning: according to xml information the file has 56 tracklets, but parser found 49!\n",
      "  warn('according to xml information the file has {0} tracklets, but parser found {1}!'.format(nTracklets, trackletIdx))\n"
     ]
    },
    {
     "name": "stdout",
     "output_type": "stream",
     "text": [
      "('./extract_kiti/0084/gt_boxes3d', './extract_kiti/0084/gt_labels')\n",
      "Loading OXTS timestamps from 2011_09_26_drive_0086_sync...\n",
      "Found 706 timestamps...\n",
      "done.\n",
      "Loading OXTS data from 2011_09_26_drive_0086_sync...\n",
      "Found 706 OXTS measurements...\n",
      "done.\n",
      "Found 706 Velodyne scans...\n",
      "done.\n",
      "('parsing tracklet file', '/home/hanbin/Desktop/Udacity_challenge/Training_Dataset/2011_09_26/2011_09_26_drive_0086_sync/tracklet_labels.xml')\n",
      "('file contains', 5, 'tracklets')\n",
      "('loaded', 3, 'tracklets')\n",
      "./extract_kiti/0086/lidar\n"
     ]
    },
    {
     "name": "stderr",
     "output_type": "stream",
     "text": [
      "kitti_data/pykitti/tracklet.py:267: UserWarning: according to xml information the file has 5 tracklets, but parser found 3!\n",
      "  warn('according to xml information the file has {0} tracklets, but parser found {1}!'.format(nTracklets, trackletIdx))\n"
     ]
    },
    {
     "name": "stdout",
     "output_type": "stream",
     "text": [
      "('./extract_kiti/0086/gt_boxes3d', './extract_kiti/0086/gt_labels')\n",
      "Loading OXTS timestamps from 2011_09_26_drive_0087_sync...\n",
      "Found 729 timestamps...\n",
      "done.\n",
      "Loading OXTS data from 2011_09_26_drive_0087_sync...\n",
      "Found 729 OXTS measurements...\n",
      "done.\n",
      "Found 729 Velodyne scans...\n",
      "done.\n",
      "('parsing tracklet file', '/home/hanbin/Desktop/Udacity_challenge/Training_Dataset/2011_09_26/2011_09_26_drive_0087_sync/tracklet_labels.xml')\n",
      "('file contains', 8, 'tracklets')\n",
      "('loaded', 6, 'tracklets')\n",
      "./extract_kiti/0087/lidar\n"
     ]
    },
    {
     "name": "stderr",
     "output_type": "stream",
     "text": [
      "kitti_data/pykitti/tracklet.py:267: UserWarning: according to xml information the file has 8 tracklets, but parser found 6!\n",
      "  warn('according to xml information the file has {0} tracklets, but parser found {1}!'.format(nTracklets, trackletIdx))\n"
     ]
    },
    {
     "name": "stdout",
     "output_type": "stream",
     "text": [
      "('./extract_kiti/0087/gt_boxes3d', './extract_kiti/0087/gt_labels')\n",
      "Loading OXTS timestamps from 2011_09_26_drive_0091_sync...\n",
      "Found 340 timestamps...\n",
      "done.\n",
      "Loading OXTS data from 2011_09_26_drive_0091_sync...\n",
      "Found 340 OXTS measurements...\n",
      "done.\n",
      "Found 340 Velodyne scans...\n",
      "done.\n",
      "('parsing tracklet file', '/home/hanbin/Desktop/Udacity_challenge/Training_Dataset/2011_09_26/2011_09_26_drive_0091_sync/tracklet_labels.xml')\n",
      "('file contains', 68, 'tracklets')\n",
      "('loaded', 2, 'tracklets')\n",
      "./extract_kiti/0091/lidar\n"
     ]
    },
    {
     "name": "stderr",
     "output_type": "stream",
     "text": [
      "kitti_data/pykitti/tracklet.py:267: UserWarning: according to xml information the file has 68 tracklets, but parser found 2!\n",
      "  warn('according to xml information the file has {0} tracklets, but parser found {1}!'.format(nTracklets, trackletIdx))\n"
     ]
    },
    {
     "name": "stdout",
     "output_type": "stream",
     "text": [
      "('./extract_kiti/0091/gt_boxes3d', './extract_kiti/0091/gt_labels')\n"
     ]
    }
   ],
   "source": [
    "for i in index:\n",
    "    automata(i) #for multiple boxes"
   ]
  }
 ],
 "metadata": {
  "kernelspec": {
   "display_name": "Python 3",
   "language": "python",
   "name": "python3"
  }
 },
 "nbformat": 4,
 "nbformat_minor": 2
}
