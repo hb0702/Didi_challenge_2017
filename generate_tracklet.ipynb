{
 "cells": [
  {
   "cell_type": "code",
   "execution_count": 9,
   "metadata": {
    "collapsed": true
   },
   "outputs": [],
   "source": [
    "import numpy as np\n",
    "import math\n",
    "from tracklet import Tracklet\n",
    "from tracklet import TrackletCollection"
   ]
  },
  {
   "cell_type": "code",
   "execution_count": 6,
   "metadata": {
    "collapsed": false
   },
   "outputs": [
    {
     "name": "stdout",
     "output_type": "stream",
     "text": [
      "[[[  1.13325310e+01   4.20234966e+00  -1.74235904e+00]\n",
      "  [  1.22772589e+01   2.64294267e+00  -1.74235904e+00]\n",
      "  [  1.60695038e+01   4.94038010e+00  -1.74235904e+00]\n",
      "  [  1.51247759e+01   6.49978685e+00  -1.74235904e+00]\n",
      "  [  1.13325310e+01   4.20234966e+00   2.57640958e-01]\n",
      "  [  1.22772589e+01   2.64294267e+00   2.57640958e-01]\n",
      "  [  1.60695038e+01   4.94038010e+00   2.57640958e-01]\n",
      "  [  1.51247759e+01   6.49978685e+00   2.57640958e-01]]\n",
      "\n",
      " [[  5.13593483e+00  -1.30706954e+00  -1.70471942e+00]\n",
      "  [  5.22208071e+00  -2.12714815e+00  -1.70471942e+00]\n",
      "  [  6.99755239e+00  -1.94064200e+00  -1.70471942e+00]\n",
      "  [  6.91140652e+00  -1.12056351e+00  -1.70471942e+00]\n",
      "  [  5.13593483e+00  -1.30706954e+00   3.43430750e-02]\n",
      "  [  5.22208071e+00  -2.12714815e+00   3.43430750e-02]\n",
      "  [  6.99755239e+00  -1.94064200e+00   3.43430750e-02]\n",
      "  [  6.91140652e+00  -1.12056351e+00   3.43430750e-02]]\n",
      "\n",
      " [[  8.16266346e+00  -6.07901144e+00  -1.70272017e+00]\n",
      "  [  8.41108894e+00  -6.80559635e+00  -1.70272017e+00]\n",
      "  [  9.33108330e+00  -6.49104214e+00  -1.70272017e+00]\n",
      "  [  9.08265781e+00  -5.76445770e+00  -1.70272017e+00]\n",
      "  [  8.16266346e+00  -6.07901144e+00   1.13423346e-02]\n",
      "  [  8.41108894e+00  -6.80559635e+00   1.13423346e-02]\n",
      "  [  9.33108330e+00  -6.49104214e+00   1.13423346e-02]\n",
      "  [  9.08265781e+00  -5.76445770e+00   1.13423346e-02]]]\n",
      "(3L, 8L, 3L)\n"
     ]
    }
   ],
   "source": [
    "gt_box = np.load('./one_frame_data/gt_boxes3d.npy')\n",
    "print gt_box\n",
    "print gt_box.shape"
   ]
  },
  {
   "cell_type": "code",
   "execution_count": 20,
   "metadata": {
    "collapsed": true
   },
   "outputs": [],
   "source": [
    "def box_to_tracklet(box, frame_number):\n",
    "    lv2d = box[1][:2] - box[0][:2] # x,y component of l vector\n",
    "    l = np.linalg.norm(lv2d)\n",
    "    w = np.linalg.norm(box[3][:2] - box[0][:2])\n",
    "    h = box[4][2] - box[0][2]\n",
    "    center = (box[0] + box[6]) * 0.5\n",
    "    lv2dn = lv2d / l # normalize\n",
    "    yaw = 0\n",
    "    if lv2dn[0] < 0.0001:\n",
    "        yaw = math.pi if lv2dn[1] > 0 else -math.pi\n",
    "    else:\n",
    "        yaw = math.atan2(lv2dn[1], lv2dn[0])    \n",
    "    t = Tracklet('Car', l, w, h)\n",
    "    t.first_frame = frame_number\n",
    "    p = {'tx': center[0], 'ty': center[1], 'tz': center[2], 'rx': 0, 'ry': 0, 'rz': yaw}\n",
    "    t.poses.append(p)\n",
    "    return t"
   ]
  },
  {
   "cell_type": "code",
   "execution_count": 21,
   "metadata": {
    "collapsed": false
   },
   "outputs": [],
   "source": [
    "def write_tracklet(filename, box_list):\n",
    "    tracklet_col = TrackletCollection()\n",
    "    for i in range(len(box_list)):\n",
    "        t = box_to_tracklet(box_list[i], i)\n",
    "        tracklet_col.tracklets.append(t)\n",
    "        tracklet_col.write_xml(filename)"
   ]
  },
  {
   "cell_type": "code",
   "execution_count": 22,
   "metadata": {
    "collapsed": false
   },
   "outputs": [],
   "source": [
    "write_tracklet('./one_frame_data/tracklet.xml', gt_box)"
   ]
  }
 ],
 "metadata": {
  "kernelspec": {
   "display_name": "Python 2",
   "language": "python",
   "name": "python2"
  },
  "language_info": {
   "codemirror_mode": {
    "name": "ipython",
    "version": 2
   },
   "file_extension": ".py",
   "mimetype": "text/x-python",
   "name": "python",
   "nbconvert_exporter": "python",
   "pygments_lexer": "ipython2",
   "version": "2.7.13"
  }
 },
 "nbformat": 4,
 "nbformat_minor": 2
}
