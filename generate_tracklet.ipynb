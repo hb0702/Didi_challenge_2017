{
 "cells": [
  {
   "cell_type": "code",
   "execution_count": 1,
   "metadata": {
    "collapsed": false
   },
   "outputs": [
    {
     "name": "stderr",
     "output_type": "stream",
     "text": [
      "Using TensorFlow backend.\n"
     ]
    }
   ],
   "source": [
    "\n",
    "import numpy as np\n",
    "import tensorflow as tf\n",
    "import keras\n",
    "from keras.models import load_model\n",
    "import matplotlib.pyplot as plt\n",
    "%matplotlib inline\n",
    "\n",
    "from keras.optimizers import Adam\n",
    "\n",
    "from fully_conv_model_for_lidar import fcn_model\n",
    "from util_func import *\n",
    "from train_2 import *\n",
    "\n",
    "from keras.utils.generic_utils import get_custom_objects\n",
    "#loss = SSD_Loss(neg_pos_ratio=neg_pos_ratio, alpha=alpha)\n",
    "get_custom_objects().update({\"my_loss\": my_loss})\n",
    "\n",
    "import mayavi.mlab\n"
   ]
  },
  {
   "cell_type": "markdown",
   "metadata": {},
   "source": [
    "# Load model"
   ]
  },
  {
   "cell_type": "code",
   "execution_count": 2,
   "metadata": {
    "collapsed": false
   },
   "outputs": [
    {
     "name": "stdout",
     "output_type": "stream",
     "text": [
      "[<tf.Tensor 'gradients/split_1_grad/concat:0' shape=(?, 64, 256, 8) dtype=float32>, None, None]\n"
     ]
    }
   ],
   "source": [
    "\n",
    "# CS's model\n",
    "model = load_model('saved_model/cs_model_May_29_2_epoch_270.h5')\n",
    "\n",
    "# Minh's model\n",
    "# model = load_model('saved_model/model_May_29_450_76.h5')\n"
   ]
  },
  {
   "cell_type": "markdown",
   "metadata": {},
   "source": [
    "# Test prediction"
   ]
  },
  {
   "cell_type": "code",
   "execution_count": null,
   "metadata": {
    "collapsed": false
   },
   "outputs": [],
   "source": [
    "\n",
    "def predict_boxes_(model, lidar, \n",
    "                   cluster=True, seg_thres=0.5, cluster_dist=0.1, min_dist=1.5, neigbor_thres=3,\n",
    "                   ver_fov=(-24.4, 15.), v_res=0.42,\n",
    "                   num_hor_seg=2, # only 2 or 4\n",
    "                   visualize=False\n",
    "                  ):\n",
    "    all_view = []\n",
    "    hor_fov_arr = []\n",
    "    h_res = 0.0\n",
    "    if num_hor_seg == 2:\n",
    "        hor_fov_arr.append([-180.,0.])\n",
    "        hor_fov_arr.append([0.,180.])\n",
    "        h_res = 0.703125\n",
    "    elif num_hor_seg == 4:\n",
    "        hor_fov_arr.append([-180.,-90.])\n",
    "        hor_fov_arr.append([-90.,0.])\n",
    "        hor_fov_arr.append([0.,90.])\n",
    "        hor_fov_arr.append([90.,180.])\n",
    "        h_res = 0.3515625\n",
    "        \n",
    "    all_boxes = np.empty((0,8,3))\n",
    "    \n",
    "    for ns in range(num_hor_seg):\n",
    "        view =  cylindrical_projection_for_test(lidar, hor_fov=hor_fov_arr[ns], h_res=h_res,\n",
    "                                               ver_fov=ver_fov, v_res=v_res)\n",
    "        if visualize:\n",
    "            all_view.append(view)\n",
    "        cylindrical_view = view[:,:,[5,2]].reshape(1,64,256,2)\n",
    "        pred = model.predict(cylindrical_view)\n",
    "        pred = pred[0]\n",
    "        pred = pred.reshape(-1,8)\n",
    "        view = view.reshape(-1,6)\n",
    "        thres_pred = pred[pred[:,0] > seg_thres]\n",
    "        thres_view = view[pred[:,0] > seg_thres]\n",
    "        \n",
    "        num_boxes = len(thres_pred)\n",
    "        boxes = np.zeros((num_boxes,8,3))\n",
    "        \n",
    "        for i in range(num_boxes):\n",
    "            boxes[i,0] = thres_view[i,:3] - rotation(thres_view[i,3],thres_pred[i,1:4])\n",
    "            boxes[i,6] = thres_view[i,:3] - rotation(thres_view[i,3],thres_pred[i,4:7])\n",
    "\n",
    "            boxes[i,2,:2] = boxes[i,6,:2]\n",
    "            boxes[i,2,2] = boxes[i,0,2]\n",
    "\n",
    "            phi = thres_pred[i,-1]\n",
    "\n",
    "            z = boxes[i,2] - boxes[i,0]\n",
    "            boxes[i,1,0] = (np.cos(phi)*z[0] + np.sin(phi)*z[1])*np.cos(phi) + boxes[i,0,0]\n",
    "            boxes[i,1,1] = (-np.sin(phi)*z[0] + np.cos(phi)*z[1])*np.cos(phi) + boxes[i,0,1]\n",
    "            boxes[i,1,2] = boxes[i,0,2]\n",
    "\n",
    "            boxes[i,3] = boxes[i,0] + boxes[i,2] - boxes[i,1]\n",
    "            boxes[i,4] = boxes[i,0] + boxes[i,6] - boxes[i,2]\n",
    "            boxes[i,5] = boxes[i,1] + boxes[i,4] - boxes[i,0]\n",
    "            boxes[i,7] = boxes[i,4] + boxes[i,6] - boxes[i,5]\n",
    "        \n",
    "        all_boxes = np.vstack((all_boxes, boxes))\n",
    "\n",
    "    if not cluster:\n",
    "        return all_boxes\n",
    "    \n",
    "    boxes_tmp = np.copy(all_boxes)\n",
    "\n",
    "    flatteb_boxes = all_boxes.reshape(-1,24)\n",
    "    num_box_total = len(all_boxes)\n",
    "    box_dist = np.zeros((num_box_total, num_box_total))\n",
    "    for i in range(num_box_total):\n",
    "        box_dist[i] = np.sqrt(np.sum(np.square(flatteb_boxes[[i]] - flatteb_boxes), axis = 1))\n",
    "\n",
    "    thres_box_dist = box_dist < cluster_dist\n",
    "    neighbor = np.sum(thres_box_dist, axis = 1)\n",
    "    \n",
    "    cluster_boxes = []\n",
    "\n",
    "    while len(neighbor)>0:\n",
    "\n",
    "        ind = np.argmax(neighbor)\n",
    "\n",
    "        if neighbor[ind] < neigbor_thres:\n",
    "            break\n",
    "\n",
    "        cluster_boxes.append(boxes_tmp[ind])\n",
    "\n",
    "        remain_indx = box_dist[ind] > min_dist\n",
    "\n",
    "        box_dist = box_dist[remain_indx]\n",
    "        box_dist = box_dist[:,remain_indx]\n",
    "\n",
    "        thres_box_dist = thres_box_dist[remain_indx]\n",
    "        thres_box_dist = thres_box_dist[:,remain_indx]\n",
    "\n",
    "        boxes_tmp = boxes_tmp[remain_indx]\n",
    "\n",
    "        neighbor = np.sum(thres_box_dist, axis = 1)\n",
    "    \n",
    "    if visualize:\n",
    "        fig, ax = plt.subplots(num_hor_seg,1, figsize = (24,15))\n",
    "        for i in range(num_hor_seg):\n",
    "            view = all_view[i]\n",
    "            ax[i].imshow(view[:,:,5])\n",
    "    \n",
    "    return all_boxes, np.array(cluster_boxes) \n"
   ]
  },
  {
   "cell_type": "code",
   "execution_count": null,
   "metadata": {
    "collapsed": false
   },
   "outputs": [],
   "source": [
    "\n",
    "lidar = np.load('test_data/19_f2/lidar_270.npy')\n",
    "print(len(lidar))\n",
    "\n",
    "cluster_boxes = []\n",
    "all_boxes = []\n",
    "\n",
    "all_boxes, cluster_boxes = predict_boxes_(model, lidar, cluster = True,\n",
    "                                            seg_thres=0.07, cluster_dist = 1.8, min_dist = 1., neigbor_thres = 7,\n",
    "                                            ver_fov=(-24.4, 15.), v_res=1.,\n",
    "                                            num_hor_seg=2, # only 2 or 4\n",
    "                                            visualize=True)\n",
    "print(len(all_boxes))\n",
    "print(len(cluster_boxes))\n"
   ]
  },
  {
   "cell_type": "markdown",
   "metadata": {},
   "source": [
    "# Visualize lidar points and bounding box, with ground truth tracklet (optional)"
   ]
  },
  {
   "cell_type": "code",
   "execution_count": null,
   "metadata": {
    "collapsed": true
   },
   "outputs": [],
   "source": [
    "\n",
    "def viz_point_box_groundtruth(points, pred_boxes, gt_boxes, vals=\"distance\"):\n",
    "    x = points[:, 0]  # x position of point\n",
    "    y = points[:, 1]  # y position of point\n",
    "    z = points[:, 2]  # z position of pointfrom mpl_toolkits.mplot3d import Axes3D\n",
    "    # r = lidar[:, 3]  # reflectance value of point\n",
    "    d = np.sqrt(x ** 2 + y ** 2)  # Map Distance from sensor\n",
    "\n",
    "    # Plot using mayavi -Much faster and smoother than matplotlib\n",
    "    #import mayavi.mlab\n",
    "    if vals == \"height\":\n",
    "        col = z\n",
    "    else:\n",
    "        col = d\n",
    "\n",
    "    fig = mayavi.mlab.figure(bgcolor=(0, 0, 0), size=(640, 360))\n",
    "    mayavi.mlab.points3d(x, y, z,\n",
    "                         col,          # Values used for Color\n",
    "                         mode=\"point\",\n",
    "                         colormap='spectral', # 'bone', 'copper', 'gnuplot'\n",
    "                         # color=(0, 1, 0),   # Used a fixed (r,g,b) instead\n",
    "                         figure=fig,\n",
    "                         )\n",
    "    \n",
    "    # predicted boxes\n",
    "    pred_color = (1,1,1)\n",
    "    for i in range(len(pred_boxes)):\n",
    "        car = pred_boxes[i]\n",
    "        x = car[:,0]\n",
    "        y = car[:,1]\n",
    "        z = car[:,2]\n",
    "\n",
    "        mayavi.mlab.plot3d(x[:4], y[:4], z[:4], tube_radius=0.025, color=pred_color)#, colormap='Spectral')\n",
    "        mayavi.mlab.plot3d(x[[0,3]], y[[0,3]], z[[0,3]], tube_radius=0.025, color=pred_color)\n",
    "        mayavi.mlab.plot3d(x[[0,4]], y[[0,4]], z[[0,4]], tube_radius=0.025, color=pred_color)\n",
    "        mayavi.mlab.plot3d(x[[1,5]], y[[1,5]], z[[1,5]], tube_radius=0.025, color=pred_color)\n",
    "        mayavi.mlab.plot3d(x[[2,6]], y[[2,6]], z[[2,6]], tube_radius=0.025, color=pred_color)\n",
    "        mayavi.mlab.plot3d(x[[3,7]], y[[3,7]], z[[3,7]], tube_radius=0.025, color=pred_color)\n",
    "        \n",
    "        mayavi.mlab.plot3d(x[-4:], y[-4:], z[-4:], tube_radius=0.025, color=pred_color)#, colormap='Spectral')\n",
    "        mayavi.mlab.plot3d(x[[4,7]], y[[4,7]], z[[4,7]], tube_radius=0.025, color=pred_color)\n",
    "    \n",
    "    #ground truth boxes\n",
    "    gt_color = (1,1,0)\n",
    "    for i in range(len(gt_boxes)):\n",
    "        car = gt_boxes[i]\n",
    "        x = car[:,0]\n",
    "        y = car[:,1]\n",
    "        z = car[:,2]\n",
    "\n",
    "        mayavi.mlab.plot3d(x[:4], y[:4], z[:4], tube_radius=0.025, color=gt_color)#, colormap='Spectral')\n",
    "        mayavi.mlab.plot3d(x[[0,3]], y[[0,3]], z[[0,3]], tube_radius=0.025, color=gt_color)\n",
    "        mayavi.mlab.plot3d(x[[0,4]], y[[0,4]], z[[0,4]], tube_radius=0.025, color=gt_color)\n",
    "        mayavi.mlab.plot3d(x[[1,5]], y[[1,5]], z[[1,5]], tube_radius=0.025, color=gt_color)\n",
    "        mayavi.mlab.plot3d(x[[2,6]], y[[2,6]], z[[2,6]], tube_radius=0.025, color=gt_color)\n",
    "        mayavi.mlab.plot3d(x[[3,7]], y[[3,7]], z[[3,7]], tube_radius=0.025, color=gt_color)\n",
    "        \n",
    "        mayavi.mlab.plot3d(x[-4:], y[-4:], z[-4:], tube_radius=0.025, color=gt_color)#, colormap='Spectral')\n",
    "        mayavi.mlab.plot3d(x[[4,7]], y[[4,7]], z[[4,7]], tube_radius=0.025, color=gt_color)\n",
    "        \n",
    "    mayavi.mlab.show()\n"
   ]
  },
  {
   "cell_type": "code",
   "execution_count": null,
   "metadata": {
    "collapsed": false
   },
   "outputs": [],
   "source": [
    "\n",
    "viz_point_box_groundtruth(points=lidar, pred_boxes=cluster_boxes, gt_boxes=[])\n"
   ]
  },
  {
   "cell_type": "markdown",
   "metadata": {},
   "source": [
    "# Generate tracklet file (Predict boxes from .npy files and save to .xml file)"
   ]
  },
  {
   "cell_type": "code",
   "execution_count": null,
   "metadata": {
    "collapsed": false
   },
   "outputs": [],
   "source": [
    "\n",
    "generate_tracklet(pred_model=model, input_folder='test_data/19_f2', output_file='test_data/tracklet_cs_merge_0531.xml', \n",
    "                  fixed_size=None, # fixed box size: None or [l, w, h]\n",
    "                  no_rotation=False, \n",
    "                  cluster=True, seg_thres=0.07, cluster_dist = 1.8, min_dist = 1., neigbor_thres = 7,\n",
    "                  ver_fov=(-24.4, 15.), v_res=1., num_hor_seg=2,\n",
    "                  merge=True)\n"
   ]
  },
  {
   "cell_type": "markdown",
   "metadata": {},
   "source": [
    "# Check result"
   ]
  },
  {
   "cell_type": "code",
   "execution_count": null,
   "metadata": {
    "collapsed": false
   },
   "outputs": [],
   "source": [
    "\n",
    "from tracklet import *\n",
    "\n",
    "def tracklet_test_to_boxes(filename, frame_number):\n",
    "    all_tracklets = parse_xml(filename)\n",
    "    \n",
    "    frame_tracklets = []\n",
    "    for i in range(len(all_tracklets)):\n",
    "        if all_tracklets[i].first_frame == frame_number:\n",
    "            frame_tracklets.append(all_tracklets[i])\n",
    "    \n",
    "    print(\"Num boxes in frame \" + str(frame_number) + \" : \" + str(len(frame_tracklets)))\n",
    "    \n",
    "    frame_boxes = []\n",
    "    for i in range(len(frame_tracklets)):\n",
    "        t = frame_tracklets[i]\n",
    "        h = t.size[2]\n",
    "        w = t.size[1]\n",
    "        l = t.size[0]\n",
    "        bbox = np.array([\n",
    "            [-l / 2, -l / 2, l / 2, l / 2, -l / 2, -l / 2, l / 2, l / 2],\n",
    "            [w / 2, -w / 2, -w / 2, w / 2, w / 2, -w / 2, -w / 2, w / 2],\n",
    "            [-h / 2, -h / 2, -h / 2, -h / 2, h / 2, h / 2, h / 2, h / 2],\n",
    "        ])\n",
    "        yaw = t.rots[0][2]\n",
    "        rot_mat = np.array([\n",
    "            [np.cos(yaw), -np.sin(yaw), 0.0],\n",
    "            [np.sin(yaw), np.cos(yaw), 0.0],\n",
    "            [0.0, 0.0, 1.0]\n",
    "        ])\n",
    "        position = t.trans[0]\n",
    "        oriented_bbox = np.dot(rot_mat, bbox) + np.tile(position, (8, 1)).T\n",
    "        t_box = oriented_bbox.T\n",
    "        frame_boxes.append(t_box)\n",
    "    return frame_boxes\n"
   ]
  },
  {
   "cell_type": "code",
   "execution_count": null,
   "metadata": {
    "collapsed": false
   },
   "outputs": [],
   "source": [
    "\n",
    "# get bounding box from udacity tracklet\n",
    "# ground_truth_box = tracklet_gt_to_box('test_data/round_1_tracklet.xml', tracklet_idx=0, frame_number=239)\n",
    "# print ground_truth_box\n",
    "# print cluster_boxes[0]\n",
    "\n",
    "# get bounding boxes from exported trcklet\n",
    "imported_boxes = tracklet_test_to_boxes('test_data/round_1_tracklet.xml', frame_number=239)\n",
    "print(imported_boxes)\n",
    "print(\"and\")\n",
    "print(cluster_boxes)\n"
   ]
  },
  {
   "cell_type": "code",
   "execution_count": null,
   "metadata": {
    "collapsed": true
   },
   "outputs": [],
   "source": [
    "\n",
    "viz_point_box_groundtruth(points=lidar, pred_boxes=cluster_boxes, gt_boxes=imported_boxes)\n"
   ]
  }
 ],
 "metadata": {
  "kernelspec": {
   "display_name": "Python 2",
   "language": "python",
   "name": "python2"
  },
  "language_info": {
   "codemirror_mode": {
    "name": "ipython",
    "version": 2
   },
   "file_extension": ".py",
   "mimetype": "text/x-python",
   "name": "python",
   "nbconvert_exporter": "python",
   "pygments_lexer": "ipython2",
   "version": "2.7.13"
  }
 },
 "nbformat": 4,
 "nbformat_minor": 2
}
