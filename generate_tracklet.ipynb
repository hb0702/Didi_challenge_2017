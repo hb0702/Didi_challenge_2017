{
 "cells": [
  {
   "cell_type": "code",
   "execution_count": 28,
   "metadata": {
    "collapsed": false
   },
   "outputs": [],
   "source": [
    "import numpy as np\n",
    "import math\n",
    "from tracklet import Tracklet\n",
    "from tracklet import TrackletCollection\n",
    "from tracklet import TrackletGT\n",
    "from tracklet import parse_xml\n",
    "import mayavi.mlab"
   ]
  },
  {
   "cell_type": "markdown",
   "metadata": {},
   "source": [
    "# Generate tracklet"
   ]
  },
  {
   "cell_type": "code",
   "execution_count": 20,
   "metadata": {
    "collapsed": false
   },
   "outputs": [
    {
     "name": "stdout",
     "output_type": "stream",
     "text": [
      "[[ 11.33253098   4.20234966  -1.74235904]\n",
      " [ 12.27725887   2.64294267  -1.74235904]\n",
      " [ 16.06950378   4.9403801   -1.74235904]\n",
      " [ 15.12477589   6.49978685  -1.74235904]\n",
      " [ 11.33253098   4.20234966   0.25764096]\n",
      " [ 12.27725887   2.64294267   0.25764096]\n",
      " [ 16.06950378   4.9403801    0.25764096]\n",
      " [ 15.12477589   6.49978685   0.25764096]]\n",
      "(8, 3)\n"
     ]
    }
   ],
   "source": [
    "pred_box = np.load('./one_frame_data/gt_boxes3d.npy')[0]\n",
    "print pred_box\n",
    "print pred_box.shape"
   ]
  },
  {
   "cell_type": "code",
   "execution_count": 21,
   "metadata": {
    "collapsed": true
   },
   "outputs": [],
   "source": [
    "def box_to_tracklet(box, frame_number):\n",
    "    lv2d = box[1][:2] - box[0][:2] # x,y component of l vector\n",
    "    l = np.linalg.norm(lv2d)\n",
    "    w = np.linalg.norm(box[3][:2] - box[0][:2])\n",
    "    h = box[4][2] - box[0][2]\n",
    "    center = (box[0] + box[6]) * 0.5\n",
    "    lv2dn = lv2d / l # normalize\n",
    "    yaw = 0\n",
    "    if lv2dn[0] < 0.0001:\n",
    "        yaw = math.pi if lv2dn[1] > 0 else -math.pi\n",
    "    else:\n",
    "        yaw = math.atan2(lv2dn[1], lv2dn[0])    \n",
    "    t = Tracklet('Car', l, w, h)\n",
    "    t.first_frame = frame_number\n",
    "    p = {'tx': center[0], 'ty': center[1], 'tz': center[2], 'rx': 0, 'ry': 0, 'rz': yaw}\n",
    "    t.poses.append(p)\n",
    "    return t"
   ]
  },
  {
   "cell_type": "code",
   "execution_count": 22,
   "metadata": {
    "collapsed": false
   },
   "outputs": [],
   "source": [
    "def write_tracklet(filename, box_list):\n",
    "    tracklet_col = TrackletCollection()\n",
    "    for i in range(len(box_list)):\n",
    "        t = box_to_tracklet(box_list[i], i)\n",
    "        tracklet_col.tracklets.append(t)\n",
    "        tracklet_col.write_xml(filename)"
   ]
  },
  {
   "cell_type": "code",
   "execution_count": 22,
   "metadata": {
    "collapsed": false
   },
   "outputs": [],
   "source": [
    "write_tracklet('./one_frame_data/tracklet.xml', pred_box)"
   ]
  },
  {
   "cell_type": "markdown",
   "metadata": {},
   "source": [
    "# Visualize lidar points, bounding box, and ground truth tracklet"
   ]
  },
  {
   "cell_type": "code",
   "execution_count": 23,
   "metadata": {
    "collapsed": false
   },
   "outputs": [
    {
     "name": "stdout",
     "output_type": "stream",
     "text": [
      "(123397, 4)\n"
     ]
    }
   ],
   "source": [
    "lidar = np.load('./one_frame_data/lidar.npy')\n",
    "print lidar.shape"
   ]
  },
  {
   "cell_type": "code",
   "execution_count": 25,
   "metadata": {
    "collapsed": true
   },
   "outputs": [],
   "source": [
    "def tracklet_gt_to_box(filename, tracklet_idx, frame_number):\n",
    "    tracklet_gt = parse_xml(filename)[tracklet_idx]\n",
    "    h = tracklet_gt.size[2]\n",
    "    w = tracklet_gt.size[1]\n",
    "    l = tracklet_gt.size[0]\n",
    "    bbox = np.array([\n",
    "        [-l / 2, -l / 2, l / 2, l / 2, -l / 2, -l / 2, l / 2, l / 2],\n",
    "        [w / 2, -w / 2, -w / 2, w / 2, w / 2, -w / 2, -w / 2, w / 2],\n",
    "        [-h / 2, -h / 2, -h / 2, -h / 2, h / 2, h / 2, h / 2, h / 2],\n",
    "    ])\n",
    "    yaw = tracklet_gt.rots[frame_number][2]\n",
    "    rot_mat = np.array([\n",
    "        [np.cos(yaw), -np.sin(yaw), 0.0],\n",
    "        [np.sin(yaw), np.cos(yaw), 0.0],\n",
    "        [0.0, 0.0, 1.0]\n",
    "    ])\n",
    "    position = tracklet_gt.trans[frame_number]\n",
    "    oriented_bbox = np.dot(rot_mat, bbox) + np.tile(position, (8, 1)).T\n",
    "    gt_box = oriented_bbox.T\n",
    "    return gt_box"
   ]
  },
  {
   "cell_type": "code",
   "execution_count": 26,
   "metadata": {
    "collapsed": false
   },
   "outputs": [
    {
     "name": "stdout",
     "output_type": "stream",
     "text": [
      "Parsing Tracklet file ./one_frame_data/tracklet_gt.xml\n",
      "File contains 1 Tracklets\n",
      "Loaded 1 Tracklets\n",
      "[[ 8.203899  0.761408 -2.590839]\n",
      " [ 8.203899 -0.686392 -2.590839]\n",
      " [ 9.778699 -0.686392 -2.590839]\n",
      " [ 9.778699  0.761408 -2.590839]\n",
      " [ 8.203899  0.761408  1.650961]\n",
      " [ 8.203899 -0.686392  1.650961]\n",
      " [ 9.778699 -0.686392  1.650961]\n",
      " [ 9.778699  0.761408  1.650961]]\n"
     ]
    }
   ],
   "source": [
    "gt_box = tracklet_gt_to_box('./one_frame_data/tracklet_gt.xml', 0, 1000)\n",
    "print gt_box"
   ]
  },
  {
   "cell_type": "code",
   "execution_count": 31,
   "metadata": {
    "collapsed": true
   },
   "outputs": [],
   "source": [
    "def viz_point_box_groundtruth(points, pred_boxes, gt_boxes, vals=\"distance\"):\n",
    "    x = points[:, 0]  # x position of point\n",
    "    y = points[:, 1]  # y position of point\n",
    "    z = points[:, 2]  # z position of pointfrom mpl_toolkits.mplot3d import Axes3D\n",
    "    # r = lidar[:, 3]  # reflectance value of point\n",
    "    d = np.sqrt(x ** 2 + y ** 2)  # Map Distance from sensor\n",
    "\n",
    "    # Plot using mayavi -Much faster and smoother than matplotlib\n",
    "    #import mayavi.mlab\n",
    "    if vals == \"height\":\n",
    "        col = z\n",
    "    else:\n",
    "        col = d\n",
    "\n",
    "    fig = mayavi.mlab.figure(bgcolor=(0, 0, 0), size=(640, 360))\n",
    "    mayavi.mlab.points3d(x, y, z,\n",
    "                         col,          # Values used for Color\n",
    "                         mode=\"point\",\n",
    "                         colormap='spectral', # 'bone', 'copper', 'gnuplot'\n",
    "                         # color=(0, 1, 0),   # Used a fixed (r,g,b) instead\n",
    "                         figure=fig,\n",
    "                         )\n",
    "    \n",
    "    # predicted boxes\n",
    "    pred_color = (1,1,1)\n",
    "    for i in range(len(pred_boxes)):\n",
    "        car = pred_boxes[i]\n",
    "        x = car[:,0]\n",
    "        y = car[:,1]\n",
    "        z = car[:,2]\n",
    "\n",
    "        mayavi.mlab.plot3d(x[:4], y[:4], z[:4], tube_radius=0.025, color=pred_color)#, colormap='Spectral')\n",
    "        mayavi.mlab.plot3d(x[[0,3]], y[[0,3]], z[[0,3]], tube_radius=0.025, color=pred_color)\n",
    "        mayavi.mlab.plot3d(x[[0,4]], y[[0,4]], z[[0,4]], tube_radius=0.025, color=pred_color)\n",
    "        mayavi.mlab.plot3d(x[[1,5]], y[[1,5]], z[[1,5]], tube_radius=0.025, color=pred_color)\n",
    "        mayavi.mlab.plot3d(x[[2,6]], y[[2,6]], z[[2,6]], tube_radius=0.025, color=pred_color)\n",
    "        mayavi.mlab.plot3d(x[[3,7]], y[[3,7]], z[[3,7]], tube_radius=0.025, color=pred_color)\n",
    "        \n",
    "        mayavi.mlab.plot3d(x[-4:], y[-4:], z[-4:], tube_radius=0.025, color=pred_color)#, colormap='Spectral')\n",
    "        mayavi.mlab.plot3d(x[[4,7]], y[[4,7]], z[[4,7]], tube_radius=0.025, color=pred_color)\n",
    "    \n",
    "    #ground truth boxes\n",
    "    gt_color = (1,1,0)\n",
    "    for i in range(len(gt_boxes)):\n",
    "        car = gt_boxes[i]\n",
    "        x = car[:,0]\n",
    "        y = car[:,1]\n",
    "        z = car[:,2]\n",
    "\n",
    "        mayavi.mlab.plot3d(x[:4], y[:4], z[:4], tube_radius=0.025, color=gt_color)#, colormap='Spectral')\n",
    "        mayavi.mlab.plot3d(x[[0,3]], y[[0,3]], z[[0,3]], tube_radius=0.025, color=gt_color)\n",
    "        mayavi.mlab.plot3d(x[[0,4]], y[[0,4]], z[[0,4]], tube_radius=0.025, color=gt_color)\n",
    "        mayavi.mlab.plot3d(x[[1,5]], y[[1,5]], z[[1,5]], tube_radius=0.025, color=gt_color)\n",
    "        mayavi.mlab.plot3d(x[[2,6]], y[[2,6]], z[[2,6]], tube_radius=0.025, color=gt_color)\n",
    "        mayavi.mlab.plot3d(x[[3,7]], y[[3,7]], z[[3,7]], tube_radius=0.025, color=gt_color)\n",
    "        \n",
    "        mayavi.mlab.plot3d(x[-4:], y[-4:], z[-4:], tube_radius=0.025, color=gt_color)#, colormap='Spectral')\n",
    "        mayavi.mlab.plot3d(x[[4,7]], y[[4,7]], z[[4,7]], tube_radius=0.025, color=gt_color)\n",
    "        \n",
    "    mayavi.mlab.show()"
   ]
  },
  {
   "cell_type": "code",
   "execution_count": 32,
   "metadata": {
    "collapsed": true
   },
   "outputs": [],
   "source": [
    "pred_boxes = []\n",
    "gt_boxes = []\n",
    "\n",
    "pred_boxes.append(pred_box)\n",
    "gt_boxes.append(gt_box)\n",
    "viz_point_box_groundtruth(lidar, pred_boxes, gt_boxes)"
   ]
  }
 ],
 "metadata": {
  "kernelspec": {
   "display_name": "Python 2",
   "language": "python",
   "name": "python2"
  },
  "language_info": {
   "codemirror_mode": {
    "name": "ipython",
    "version": 2
   },
   "file_extension": ".py",
   "mimetype": "text/x-python",
   "name": "python",
   "nbconvert_exporter": "python",
   "pygments_lexer": "ipython2",
   "version": "2.7.13"
  }
 },
 "nbformat": 4,
 "nbformat_minor": 2
}
