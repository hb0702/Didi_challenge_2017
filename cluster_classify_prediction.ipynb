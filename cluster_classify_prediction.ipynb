{
 "cells": [
  {
   "cell_type": "code",
   "execution_count": 1,
   "metadata": {
    "collapsed": false
   },
   "outputs": [
    {
     "name": "stderr",
     "output_type": "stream",
     "text": [
      "Using TensorFlow backend.\n"
     ]
    }
   ],
   "source": [
    "import numpy as np\n",
    "import tensorflow as tf\n",
    "import keras\n",
    "from keras.models import load_model\n",
    "import os\n",
    "import matplotlib.pyplot as plt\n",
    "%matplotlib inline\n",
    "\n",
    "from sklearn.cluster import DBSCAN\n",
    "\n",
    "from keras.optimizers import Adam\n",
    "\n",
    "from cluster_classify_model import cluster_classify_model\n",
    "from cluster_classify_util import *\n",
    "from cluster_classify_train import *\n",
    "from test_on_udacity_data import *\n",
    "\n",
    "from keras.utils.generic_utils import get_custom_objects\n",
    "get_custom_objects().update({\"my_loss\": my_loss})\n"
   ]
  },
  {
   "cell_type": "code",
   "execution_count": 2,
   "metadata": {
    "collapsed": false
   },
   "outputs": [
    {
     "name": "stdout",
     "output_type": "stream",
     "text": [
      "[<tf.Tensor 'gradients/split_1_grad/concat:0' shape=(?, 7) dtype=float32>, None, None]\n"
     ]
    }
   ],
   "source": [
    "# load trained model\n",
    "model = load_model('./saved_model/test_cluster.h5')"
   ]
  },
  {
   "cell_type": "code",
   "execution_count": 3,
   "metadata": {
    "collapsed": true
   },
   "outputs": [],
   "source": [
    "lidar_file1 = './data/training_didi_data/car_cluster/suburu_driving_towards_it/car_195.npy'\n",
    "lidar_file2 = './data/training_didi_data/car_cluster/suburu_driving_towards_it/car_179.npy' #179\n",
    "\n",
    "gtbox_file1 = './data/training_didi_data/car_train_gt_box_edited/suburu_driving_towards_it/gt_boxes3d/gt_boxes3d_195.npy' #179\n",
    "gtbox_file2 = './data/training_didi_data/car_train_gt_box_edited/suburu_driving_towards_it/gt_boxes3d/gt_boxes3d_179.npy' #179\n",
    "\n",
    "\n",
    "lidar1 = np.load(lidar_file1)\n",
    "lidar2 = np.load(lidar_file2)\n",
    "gtbox1 = np.load(gtbox_file1)\n",
    "gtbox2 = np.load(gtbox_file2)\n",
    "\n",
    "lidars = [lidar1, lidar2]\n",
    "gtboxes = [gtbox1, gtbox2]"
   ]
  },
  {
   "cell_type": "code",
   "execution_count": 4,
   "metadata": {
    "collapsed": true
   },
   "outputs": [],
   "source": [
    "thresh = 0.5\n",
    "nb_clusters = 2\n",
    "centers = np.zeros((nb_clusters,2))\n",
    "imgs = np.zeros((nb_clusters, 64,64,2))\n",
    "for i in range(nb_clusters):\n",
    "    img, center = discretize(lidars[1])\n",
    "    imgs[i] = img\n",
    "    centers[i] = center\n",
    "\n",
    "features = model.predict(imgs)\n",
    "thresh_features = features[features[:,0] >= thresh]\n",
    "centers = centers[features[:,0] >= thresh]\n",
    "boxes = np.array([gt_box_decode(features[i], centers[i], z_min = -1.5) for i in range(len(features)) ])"
   ]
  },
  {
   "cell_type": "code",
   "execution_count": 5,
   "metadata": {
    "collapsed": false
   },
   "outputs": [
    {
     "name": "stdout",
     "output_type": "stream",
     "text": [
      "(2, 8, 3)\n"
     ]
    }
   ],
   "source": [
    "print(boxes.shape)"
   ]
  },
  {
   "cell_type": "code",
   "execution_count": 6,
   "metadata": {
    "collapsed": false
   },
   "outputs": [],
   "source": [
    "viz_mayavi_with_labels(lidars[1], gtboxes[1])"
   ]
  },
  {
   "cell_type": "code",
   "execution_count": 7,
   "metadata": {
    "collapsed": false
   },
   "outputs": [],
   "source": [
    "viz_mayavi_with_labels(lidars[1], np.expand_dims(boxes[1],0))"
   ]
  },
  {
   "cell_type": "markdown",
   "metadata": {},
   "source": [
    "#### Predict on frame"
   ]
  },
  {
   "cell_type": "code",
   "execution_count": 8,
   "metadata": {
    "collapsed": false
   },
   "outputs": [],
   "source": [
    "def predict(model,lidar, seg_thres=0.5):\n",
    "    lidar, labels = cluster(lidar)\n",
    "    list_clusters = list(set(labels))\n",
    "    nb_clusters = len(list_clusters)\n",
    "    \n",
    "    list_of_cluster = np.array([lidar[labels == list_clusters[i]] for i in range(nb_clusters)] )\n",
    "    \n",
    "    centers = np.zeros((nb_clusters,2))\n",
    "    imgs = np.zeros((nb_clusters, 64,64,2))\n",
    "    \n",
    "    for i in range(nb_clusters):\n",
    "        img, center = discretize(lidars[1])\n",
    "        imgs[i] = img\n",
    "        centers[i] = center\n",
    "\n",
    "    features = model.predict(imgs)\n",
    "    thresh_features = features[features[:,0] >= thresh]\n",
    "    centers = centers[features[:,0] >= thresh]\n",
    "    boxes = np.array([gt_box_decode(features[i], centers[i], z_min = -1.5) for i in range(len(features)) ])\n",
    "    \n",
    "    return boxes\n",
    "    "
   ]
  },
  {
   "cell_type": "code",
   "execution_count": 9,
   "metadata": {
    "collapsed": true
   },
   "outputs": [],
   "source": [
    "lidar = np.load('./data/training_didi_data/car_train_edited/bmw_sitting_still/lidar/lidar_100.npy')\n",
    "gtbox = np.load('./data/training_didi_data/car_train_gt_box_edited/bmw_sitting_still/gt_boxes3d/gt_boxes3d_100.npy')\n",
    "viz_mayavi_with_labels(lidar, gtbox)"
   ]
  },
  {
   "cell_type": "code",
   "execution_count": 10,
   "metadata": {
    "collapsed": false
   },
   "outputs": [
    {
     "name": "stdout",
     "output_type": "stream",
     "text": [
      "(1, 8, 3)\n"
     ]
    }
   ],
   "source": [
    "boxes = predict(model, lidar)\n",
    "print(boxes.shape)"
   ]
  },
  {
   "cell_type": "code",
   "execution_count": 11,
   "metadata": {
    "collapsed": true
   },
   "outputs": [],
   "source": [
    "viz_mayavi_with_labels(lidar, boxes)"
   ]
  }
 ],
 "metadata": {
  "kernelspec": {
   "display_name": "Python [conda env:tensorflow]",
   "language": "python",
   "name": "conda-env-tensorflow-py"
  },
  "language_info": {
   "codemirror_mode": {
    "name": "ipython",
    "version": 3
   },
   "file_extension": ".py",
   "mimetype": "text/x-python",
   "name": "python",
   "nbconvert_exporter": "python",
   "pygments_lexer": "ipython3",
   "version": "3.5.2"
  }
 },
 "nbformat": 4,
 "nbformat_minor": 1
}
