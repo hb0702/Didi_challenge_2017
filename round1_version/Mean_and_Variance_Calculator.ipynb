{
 "cells": [
  {
   "cell_type": "code",
   "execution_count": 1,
   "metadata": {
    "collapsed": true
   },
   "outputs": [],
   "source": [
    "import numpy as np\n",
    "import matplotlib.pyplot as plt\n",
    "import os\n",
    "%matplotlib inline\n",
    "from __future__ import division"
   ]
  },
  {
   "cell_type": "code",
   "execution_count": 2,
   "metadata": {
    "collapsed": true
   },
   "outputs": [],
   "source": [
    "def cylindrical_projection(lidar, \n",
    "                           ver_fov = (-24.9, 2.), \n",
    "                           hor_fov = (-40, 40), \n",
    "                           v_res = 0.42,\n",
    "                           h_res = 0.35,\n",
    "                           d_max = None):\n",
    "    '''\n",
    "    lidar: a numpy array of shape N*D, D>=3\n",
    "    ver_fov : angle range of vertical projection in degree\n",
    "    hor_fov: angle range of horizantal projection in degree\n",
    "    v_res : vertical resolusion\n",
    "    h_res : horizontal resolution\n",
    "    d_max : maximun range distance\n",
    "    \n",
    "    return : cylindrical projection (or panorama view) of lidar\n",
    "    '''\n",
    "    \n",
    "    x = lidar[:,0]\n",
    "    y = lidar[:,1]\n",
    "    z = lidar[:,2]\n",
    "    d = np.sqrt(np.square(x)+np.square(y))\n",
    "    \n",
    "    if d_max != None:\n",
    "        d[d>d_max] = d_max\n",
    "    \n",
    "    \n",
    "    theta = np.arctan2(-y, x)\n",
    "    phi = -np.arctan2(z, d)\n",
    "    \n",
    "    x_view = np.int16(np.ceil((theta*180/np.pi - hor_fov[0])/h_res))\n",
    "    y_view = np.int16(np.ceil((phi*180/np.pi + ver_fov[1])/v_res))\n",
    "    \n",
    "    x_max = int(np.ceil((hor_fov[1] - hor_fov[0])/h_res))\n",
    "    y_max = int(np.ceil((ver_fov[1] - ver_fov[0])/v_res))\n",
    "    \n",
    "    \n",
    "    indices = np.logical_and( np.logical_and(x_view >= 0, x_view <= x_max), \n",
    "                           np.logical_and(y_view >= 0, y_view <= y_max)  )\n",
    "    \n",
    "    \n",
    "    x_view = x_view[indices]\n",
    "    y_view = y_view[indices]\n",
    "    z = z[indices]\n",
    "    d = d[indices]\n",
    "    d_z = [[d[i],z[i]] for i in range(len(d))]\n",
    "    \n",
    "    width_view = int(np.ceil((hor_fov[1] - hor_fov[0])/h_res))\n",
    "    height_view = int(np.ceil((ver_fov[1] - ver_fov[0])/v_res))\n",
    "    \n",
    "    view = np.zeros([height_view+1, width_view+1, 2],dtype=np.float64)\n",
    "    view[y_view,x_view] = d_z\n",
    "    return view"
   ]
  },
  {
   "cell_type": "code",
   "execution_count": 11,
   "metadata": {
    "collapsed": true
   },
   "outputs": [],
   "source": [
    "def calc(lidar):\n",
    "    \n",
    "    view = cylindrical_projection(lidar, \n",
    "                           ver_fov = (-24.9, 2.), \n",
    "                           hor_fov = (-40,40), \n",
    "                           v_res = 0.42,\n",
    "                           h_res = 0.35,\n",
    "                           d_max = None)\n",
    "    \n",
    "    mean_depth=np.mean(view[:,:,0])\n",
    "    mean_height=np.mean(view[:,:,1])\n",
    "    variance_depth=np.var(view[:,:,0])\n",
    "    variance_height=np.var(view[:,:,1])\n",
    "    \n",
    "    return mean_depth, mean_height, variance_depth, variance_height"
   ]
  },
  {
   "cell_type": "code",
   "execution_count": 12,
   "metadata": {
    "collapsed": false
   },
   "outputs": [],
   "source": [
    "def list_of_data(data_dir):\n",
    "    \n",
    "    #input : data directory\n",
    "    #output: index of files of each folder\n",
    "    \n",
    "    list_of_lidar = []\n",
    "    \n",
    "    print('number of folders', len(os.listdir(data_dir)))\n",
    "    \n",
    "    for f in os.listdir(data_dir):\n",
    "        path = os.path.join(data_dir, f)\n",
    "        lidar_path = os.path.join(path, 'lidar')\n",
    "        num_files = len(os.listdir(lidar_path))\n",
    "    \n",
    "        lidar = [os.path.join(lidar_path, 'lidar_'+str(i)+'.npy') for i in range(num_files) ]\n",
    "        list_of_lidar += lidar\n",
    "        \n",
    "        \n",
    "    return list_of_lidar"
   ]
  },
  {
   "cell_type": "code",
   "execution_count": 13,
   "metadata": {
    "collapsed": false
   },
   "outputs": [
    {
     "name": "stdout",
     "output_type": "stream",
     "text": [
      "('number of folders', 37)\n",
      "(10.782073777788398, -0.98610006643923021, 155.24291034844435, 0.75046486266728052)\n",
      "(66, 230, 2)\n"
     ]
    },
    {
     "data": {
      "image/png": "[encoded data removed]",
      "text/plain": [
       "<matplotlib.figure.Figure at 0x7f5fa4a81490>"
      ]
     },
     "metadata": {},
     "output_type": "display_data"
    }
   ],
   "source": [
    "directory='/home/hanbin/Desktop/Udacity_challenge/our_didi_challenge/extract_kiti/' \n",
    "lidar_list=list_of_data(directory)\n",
    "sample=lidar_list[1000]\n",
    "lidar = np.load(sample)\n",
    "view=cylindrical_projection(lidar)\n",
    "\n",
    "print calc(lidar)\n",
    "print(view.shape)\n",
    "fig, ax = plt.subplots(2,1, figsize = (24,15))\n",
    "ax[0].imshow(view[:,:,0])\n",
    "ax[1].imshow(view[:,:,1]);\n",
    "#print(view[30,30:60,1])"
   ]
  },
  {
   "cell_type": "code",
   "execution_count": 14,
   "metadata": {
    "collapsed": false
   },
   "outputs": [],
   "source": [
    "def automata():\n",
    "    directory='/home/hanbin/Desktop/Udacity_challenge/our_didi_challenge/extract_kiti/' ## change this\n",
    "\n",
    "    lidar_list=list_of_data(directory)\n",
    "    \n",
    "    mz = 0\n",
    "    md = 0\n",
    "    vz = 0\n",
    "    vd = 0\n",
    "    counter = 0\n",
    "    \n",
    "    print('number of total files', len(lidar_list))\n",
    "    \n",
    "    for lidar_file in lidar_list:\n",
    "        lidar = np.load(lidar_file)\n",
    "    \n",
    "        result = calc(lidar)\n",
    "                \n",
    "        md += result[0]\n",
    "        mz += result[1]\n",
    "        vd += result[2]\n",
    "        vz += result[3]\n",
    "        counter += 1\n",
    "        \n",
    "        print\"%.5f\" % (100*counter/len(lidar_list)), 'percent done'\n",
    "        \n",
    "    md=md/counter\n",
    "    mz=mz/counter\n",
    "    vd=vd/counter\n",
    "    vz=vz/counter\n",
    "    \n",
    "    print( md, mz, vd, vz)"
   ]
  },
  {
   "cell_type": "code",
   "execution_count": 15,
   "metadata": {
    "collapsed": false,
    "scrolled": true
   },
   "outputs": [
    {
     "name": "stdout",
     "output_type": "stream",
     "text": [
      "('number of folders', 37)\n",
      "('number of total files', 12482)\n",
      "0.00801 percent done\n",
      "0.01602 percent done\n",
      "0.02403 percent done\n",
      "0.03205 percent done\n",
      "0.04006 percent done\n",
      "0.04807 percent done\n",
      "0.05608 percent done\n",
      "0.06409 percent done\n",
      "0.07210 percent done\n",
      "0.08012 percent done\n",
      "0.08813 percent done\n",
      "0.09614 percent done\n",
      "0.10415 percent done\n",
      "0.11216 percent done\n",
      "0.12017 percent done\n",
      "0.12818 percent done\n",
      "0.13620 percent done\n",
      "0.14421 percent done\n",
      "0.15222 percent done\n",
      "0.16023 percent done\n",
      "0.16824 percent done\n",
      "0.17625 percent done\n",
      "0.18427 percent done\n",
      "0.19228 percent done\n",
      "0.20029 percent done\n",
      "0.20830 percent done\n",
      "0.21631 percent done\n",
      "0.22432 percent done\n",
      "0.23233 percent done\n",
      "0.24035 percent done\n",
      "0.24836 percent done\n",
      "0.25637 percent done\n",
      "0.26438 percent done\n",
      "0.27239 percent done\n",
      "0.28040 percent done\n",
      "0.28842 percent done\n",
      "0.29643 percent done\n",
      "0.30444 percent done\n",
      "0.31245 percent done\n",
      "0.32046 percent done\n",
      "0.32847 percent done\n",
      "0.33648 percent done\n",
      "0.34450 percent done\n",
      "0.35251 percent done\n",
      "0.36052 percent done\n",
      "0.36853 percent done\n",
      "0.37654 percent done\n",
      "0.38455 percent done\n",
      "0.39257 percent done\n",
      "0.40058 percent done\n",
      "0.40859 percent done\n",
      "0.41660 percent done\n",
      "0.42461 percent done\n",
      "0.43262 percent done\n",
      "0.44063 percent done\n",
      "0.44865 percent done\n",
      "0.45666 percent done\n",
      "0.46467 percent done\n",
      "0.47268 percent done\n",
      "0.48069 percent done\n",
      "0.48870 percent done\n",
      "0.49672 percent done\n",
      "0.50473 percent done\n",
      "0.51274 percent done\n",
      "0.52075 percent done\n",
      "0.52876 percent done\n",
      "0.53677 percent done\n",
      "0.54478 percent done\n",
      "0.55280 percent done\n",
      "0.56081 percent done\n",
      "0.56882 percent done\n",
      "0.57683 percent done\n",
      "0.58484 percent done\n",
      "0.59285 percent done\n",
      "0.60087 percent done\n",
      "0.60888 percent done\n",
      "0.61689 percent done\n",
      "0.62490 percent done\n",
      "0.63291 percent done\n",
      "0.64092 percent done\n",
      "0.64893 percent done\n",
      "0.65695 percent done\n",
      "0.66496 percent done\n",
      "0.67297 percent done\n",
      "0.68098 percent done\n",
      "0.68899 percent done\n",
      "0.69700 percent done\n",
      "0.70502 percent done\n",
      "0.71303 percent done\n",
      "0.72104 percent done\n",
      "0.72905 percent done\n",
      "0.73706 percent done\n",
      "0.74507 percent done\n"
     ]
    },
    {
     "ename": "KeyboardInterrupt",
     "evalue": "",
     "output_type": "error",
     "traceback": [
      "\u001b[0;31m---------------------------------------------------------------------------\u001b[0m",
      "\u001b[0;31mKeyboardInterrupt\u001b[0m                         Traceback (most recent call last)",
      "\u001b[0;32m<ipython-input-15-8fae9329ba5e>\u001b[0m in \u001b[0;36m<module>\u001b[0;34m()\u001b[0m\n\u001b[0;32m----> 1\u001b[0;31m \u001b[0mautomata\u001b[0m\u001b[0;34m(\u001b[0m\u001b[0;34m)\u001b[0m\u001b[0;34m\u001b[0m\u001b[0m\n\u001b[0m",
      "\u001b[0;32m<ipython-input-14-e470d9914490>\u001b[0m in \u001b[0;36mautomata\u001b[0;34m()\u001b[0m\n\u001b[1;32m     13\u001b[0m \u001b[0;34m\u001b[0m\u001b[0m\n\u001b[1;32m     14\u001b[0m     \u001b[0;32mfor\u001b[0m \u001b[0mlidar_file\u001b[0m \u001b[0;32min\u001b[0m \u001b[0mlidar_list\u001b[0m\u001b[0;34m:\u001b[0m\u001b[0;34m\u001b[0m\u001b[0m\n\u001b[0;32m---> 15\u001b[0;31m         \u001b[0mlidar\u001b[0m \u001b[0;34m=\u001b[0m \u001b[0mnp\u001b[0m\u001b[0;34m.\u001b[0m\u001b[0mload\u001b[0m\u001b[0;34m(\u001b[0m\u001b[0mlidar_file\u001b[0m\u001b[0;34m)\u001b[0m\u001b[0;34m\u001b[0m\u001b[0m\n\u001b[0m\u001b[1;32m     16\u001b[0m \u001b[0;34m\u001b[0m\u001b[0m\n\u001b[1;32m     17\u001b[0m         \u001b[0mresult\u001b[0m \u001b[0;34m=\u001b[0m \u001b[0mcalc\u001b[0m\u001b[0;34m(\u001b[0m\u001b[0mlidar\u001b[0m\u001b[0;34m)\u001b[0m\u001b[0;34m\u001b[0m\u001b[0m\n",
      "\u001b[0;32m/home/hanbin/anaconda3/envs/python2/lib/python2.7/site-packages/numpy/lib/npyio.pyc\u001b[0m in \u001b[0;36mload\u001b[0;34m(file, mmap_mode, allow_pickle, fix_imports, encoding)\u001b[0m\n\u001b[1;32m    417\u001b[0m             \u001b[0;32melse\u001b[0m\u001b[0;34m:\u001b[0m\u001b[0;34m\u001b[0m\u001b[0m\n\u001b[1;32m    418\u001b[0m                 return format.read_array(fid, allow_pickle=allow_pickle,\n\u001b[0;32m--> 419\u001b[0;31m                                          pickle_kwargs=pickle_kwargs)\n\u001b[0m\u001b[1;32m    420\u001b[0m         \u001b[0;32melse\u001b[0m\u001b[0;34m:\u001b[0m\u001b[0;34m\u001b[0m\u001b[0m\n\u001b[1;32m    421\u001b[0m             \u001b[0;31m# Try a pickle\u001b[0m\u001b[0;34m\u001b[0m\u001b[0;34m\u001b[0m\u001b[0m\n",
      "\u001b[0;32m/home/hanbin/anaconda3/envs/python2/lib/python2.7/site-packages/numpy/lib/format.pyc\u001b[0m in \u001b[0;36mread_array\u001b[0;34m(fp, allow_pickle, pickle_kwargs)\u001b[0m\n\u001b[1;32m    649\u001b[0m         \u001b[0;32mif\u001b[0m \u001b[0misfileobj\u001b[0m\u001b[0;34m(\u001b[0m\u001b[0mfp\u001b[0m\u001b[0;34m)\u001b[0m\u001b[0;34m:\u001b[0m\u001b[0;34m\u001b[0m\u001b[0m\n\u001b[1;32m    650\u001b[0m             \u001b[0;31m# We can use the fast fromfile() function.\u001b[0m\u001b[0;34m\u001b[0m\u001b[0;34m\u001b[0m\u001b[0m\n\u001b[0;32m--> 651\u001b[0;31m             \u001b[0marray\u001b[0m \u001b[0;34m=\u001b[0m \u001b[0mnumpy\u001b[0m\u001b[0;34m.\u001b[0m\u001b[0mfromfile\u001b[0m\u001b[0;34m(\u001b[0m\u001b[0mfp\u001b[0m\u001b[0;34m,\u001b[0m \u001b[0mdtype\u001b[0m\u001b[0;34m=\u001b[0m\u001b[0mdtype\u001b[0m\u001b[0;34m,\u001b[0m \u001b[0mcount\u001b[0m\u001b[0;34m=\u001b[0m\u001b[0mcount\u001b[0m\u001b[0;34m)\u001b[0m\u001b[0;34m\u001b[0m\u001b[0m\n\u001b[0m\u001b[1;32m    652\u001b[0m         \u001b[0;32melse\u001b[0m\u001b[0;34m:\u001b[0m\u001b[0;34m\u001b[0m\u001b[0m\n\u001b[1;32m    653\u001b[0m             \u001b[0;31m# This is not a real file. We have to read it the\u001b[0m\u001b[0;34m\u001b[0m\u001b[0;34m\u001b[0m\u001b[0m\n",
      "\u001b[0;31mKeyboardInterrupt\u001b[0m: "
     ]
    }
   ],
   "source": [
    "automata()"
   ]
  },
  {
   "cell_type": "code",
   "execution_count": null,
   "metadata": {
    "collapsed": true
   },
   "outputs": [],
   "source": []
  }
 ],
 "metadata": {
  "kernelspec": {
   "display_name": "Python 2",
   "language": "python",
   "name": "python2"
  },
  "language_info": {
   "codemirror_mode": {
    "name": "ipython",
    "version": 2
   },
   "file_extension": ".py",
   "mimetype": "text/x-python",
   "name": "python",
   "nbconvert_exporter": "python",
   "pygments_lexer": "ipython2",
   "version": "2.7.13"
  }
 },
 "nbformat": 4,
 "nbformat_minor": 2
}
