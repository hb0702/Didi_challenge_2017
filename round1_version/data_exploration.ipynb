{
 "cells": [
  {
   "cell_type": "code",
   "execution_count": 36,
   "metadata": {
    "collapsed": false
   },
   "outputs": [],
   "source": [
    "from shutil import copytree, ignore_patterns, copy\n",
    "from distutils.dir_util import copy_tree\n",
    "import os\n",
    "import numpy as np\n",
    "import time\n",
    "#from multiprocessing import Pool\n",
    "import matplotlib.pyplot as plt\n",
    "%matplotlib inline\n",
    "from util_func import *"
   ]
  },
  {
   "cell_type": "code",
   "execution_count": null,
   "metadata": {
    "collapsed": true
   },
   "outputs": [],
   "source": [
    "def list_of_data(data_dir):\n",
    "    list_of_lidar = []\n",
    "    list_of_gtbox = []\n",
    "    for f in os.listdir(data_dir):\n",
    "        path = os.path.join(data_dir, f)\n",
    "        lidar_path = os.path.join(path, 'lidar')\n",
    "        gtbox_path = os.path.join(path, 'gt_boxes3d')\n",
    "        num_files = len(os.listdir(lidar_path))\n",
    "\n",
    "        lidar = [os.path.join(lidar_path, 'lidar_'+str(i)+'.npy') for i in range(num_files) ]\n",
    "        gtbox = [os.path.join(gtbox_path, 'gt_boxes3d_'+str(i)+'.npy') for i in range(num_files) ]\n",
    "        list_of_lidar += lidar\n",
    "        list_of_gtbox += gtbox\n",
    "    return list_of_lidar, list_of_gtbox"
   ]
  },
  {
   "cell_type": "code",
   "execution_count": null,
   "metadata": {
    "collapsed": true
   },
   "outputs": [],
   "source": [
    "data_dir = './all_data/extract_kiti/'\n",
    "list_of_lidar, list_of_gtbox = list_of_data(data_dir)\n",
    "print(len(list_of_lidar))"
   ]
  },
  {
   "cell_type": "code",
   "execution_count": null,
   "metadata": {
    "collapsed": true
   },
   "outputs": [],
   "source": [
    "num_cars = np.zeros(len(list_of_gtbox))\n",
    "for i in range(len(list_of_gtbox)):\n",
    "    gt_box = np.load(list_of_gtbox[i])\n",
    "    num_cars[i] = len(gt_box)"
   ]
  },
  {
   "cell_type": "code",
   "execution_count": null,
   "metadata": {
    "collapsed": true
   },
   "outputs": [],
   "source": [
    "unique, counts = np.unique(num_cars, return_counts=True)\n",
    "dict(zip(unique, counts))"
   ]
  },
  {
   "cell_type": "code",
   "execution_count": null,
   "metadata": {
    "collapsed": true
   },
   "outputs": [],
   "source": [
    "indx = {}\n",
    "for i in range(len(num_cars)):\n",
    "    if num_cars[i] not in indx.keys():\n",
    "        indx[num_cars[i]] = [i]\n",
    "    else:\n",
    "        indx[num_cars[i]].append(i)\n",
    "print(indx.keys())"
   ]
  },
  {
   "cell_type": "code",
   "execution_count": null,
   "metadata": {
    "collapsed": true
   },
   "outputs": [],
   "source": [
    "import pickle\n",
    "\n",
    "with open('./saved_model/numcar_ind.pickle', 'wb') as f:\n",
    "    pickle.dump(indx, f)\n",
    "\n",
    "with open('./saved_model/numcar_ind.pickle', 'rb') as f:\n",
    "    ind_load = pickle.load(f)\n",
    "\n",
    "print(indx == ind_load)"
   ]
  },
  {
   "cell_type": "code",
   "execution_count": null,
   "metadata": {
    "collapsed": true
   },
   "outputs": [],
   "source": [
    "print(int(0.1*len(ind_load[0])))"
   ]
  },
  {
   "cell_type": "code",
   "execution_count": null,
   "metadata": {
    "collapsed": true
   },
   "outputs": [],
   "source": [
    "def undersample_data(list_of_lidar, list_of_gtbox, pickle_index, percent_noncar = 0.1):\n",
    "    with open(pickle_index, 'rb') as f:\n",
    "        ind_load = pickle.load(f)\n",
    "    size_noncar = int(0.1*len(ind_load[0]))\n",
    "    ind_0 = list(np.random.choice(ind_load[0], size=size_noncar, replace=False))\n",
    "    for i in range(1, len(ind_load)):\n",
    "        ind_0 += ind_load[i]\n",
    "    new_list_of_lidar = [list_of_lidar[i] for i in ind_0]\n",
    "    new_list_of_gtbox = [list_of_gtbox[i] for i in ind_0]\n",
    "   \n",
    "    return new_list_of_lidar, new_list_of_gtbox\n",
    "\n",
    "pickle_index = './saved_model/numcar_ind.pickle'\n",
    "new_list_of_lidar, new_list_of_gtbox = undersample_data(list_of_lidar, list_of_gtbox, \n",
    "                                                       pickle_index, percent_noncar = 0.1)\n",
    "print(len(new_list_of_lidar), len(new_list_of_gtbox))"
   ]
  },
  {
   "cell_type": "code",
   "execution_count": null,
   "metadata": {
    "collapsed": true
   },
   "outputs": [],
   "source": [
    "for i in indx.keys():\n",
    "    print(i,' : ',np.random.choice(indx[i]), len(indx[i]) )"
   ]
  },
  {
   "cell_type": "code",
   "execution_count": 40,
   "metadata": {
    "collapsed": false
   },
   "outputs": [
    {
     "name": "stdout",
     "output_type": "stream",
     "text": [
      "/home/hanbin/Desktop/Udacity_challenge/our_didi_v2/didi_challenge/extract_kiti_real\n",
      "/home/hanbin/Desktop/Udacity_challenge/our_didi_v2/didi_challenge/view_data\n"
     ]
    }
   ],
   "source": [
    "# This extracts view folder from the rest of the dataset\n",
    "\n",
    "# set input as extract_kiti\n",
    "# set out as desired directory\n",
    "directory=\"/home/hanbin/Desktop/Udacity_challenge/our_didi_v2/didi_challenge/extract_kiti_real\"\n",
    "dst=\"/home/hanbin/Desktop/Udacity_challenge/our_didi_v2/didi_challenge/view_data\"\n",
    "\n",
    "src=directory\n",
    "print src\n",
    "print dst\n",
    "\n",
    "copytree(src, dst, ignore=ignore_patterns('lidar*', 'gt_boxes3d*', 'gt_labels*'))"
   ]
  }
 ],
 "metadata": {
  "kernelspec": {
   "display_name": "Python 2",
   "language": "python",
   "name": "python2"
  },
  "language_info": {
   "codemirror_mode": {
    "name": "ipython",
    "version": 2
   },
   "file_extension": ".py",
   "mimetype": "text/x-python",
   "name": "python",
   "nbconvert_exporter": "python",
   "pygments_lexer": "ipython2",
   "version": "2.7.13"
  }
 },
 "nbformat": 4,
 "nbformat_minor": 2
}
