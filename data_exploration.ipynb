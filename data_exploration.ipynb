{
 "cells": [
  {
   "cell_type": "code",
   "execution_count": 1,
   "metadata": {
    "collapsed": false
   },
   "outputs": [],
   "source": [
    "import numpy as np\n",
    "# import tensorflow as tf\n",
    "# import keras\n",
    "# from keras.models import load_model\n",
    "# import os\n",
    "import time\n",
    "import os\n",
    "#from multiprocessing import Pool\n",
    "import matplotlib.pyplot as plt\n",
    "%matplotlib inline\n",
    "\n",
    "# from keras.optimizers import Adam\n",
    "\n",
    "# from fully_conv_model_for_lidar import fcn_model\n",
    "from util_func import *\n",
    "# from train import *\n",
    "\n",
    "# from keras.utils.generic_utils import get_custom_objects\n",
    "# #loss = SSD_Loss(neg_pos_ratio=neg_pos_ratio, alpha=alpha)\n",
    "# get_custom_objects().update({\"my_loss\": my_loss})\n"
   ]
  },
  {
   "cell_type": "code",
   "execution_count": 2,
   "metadata": {
    "collapsed": true
   },
   "outputs": [],
   "source": [
    "def list_of_data(data_dir):\n",
    "    list_of_lidar = []\n",
    "    list_of_gtbox = []\n",
    "    for f in os.listdir(data_dir):\n",
    "        path = os.path.join(data_dir, f)\n",
    "        lidar_path = os.path.join(path, 'lidar')\n",
    "        gtbox_path = os.path.join(path, 'gt_boxes3d')\n",
    "        num_files = len(os.listdir(lidar_path))\n",
    "\n",
    "        lidar = [os.path.join(lidar_path, 'lidar_'+str(i)+'.npy') for i in range(num_files) ]\n",
    "        gtbox = [os.path.join(gtbox_path, 'gt_boxes3d_'+str(i)+'.npy') for i in range(num_files) ]\n",
    "        list_of_lidar += lidar\n",
    "        list_of_gtbox += gtbox\n",
    "    return list_of_lidar, list_of_gtbox"
   ]
  },
  {
   "cell_type": "code",
   "execution_count": 3,
   "metadata": {
    "collapsed": false
   },
   "outputs": [
    {
     "name": "stdout",
     "output_type": "stream",
     "text": [
      "12482\n"
     ]
    }
   ],
   "source": [
    "data_dir = './all_data/extract_kiti/'\n",
    "list_of_lidar, list_of_gtbox = list_of_data(data_dir)\n",
    "print(len(list_of_lidar))"
   ]
  },
  {
   "cell_type": "code",
   "execution_count": 4,
   "metadata": {
    "collapsed": true
   },
   "outputs": [],
   "source": [
    "num_cars = np.zeros(len(list_of_gtbox))\n",
    "for i in range(len(list_of_gtbox)):\n",
    "    gt_box = np.load(list_of_gtbox[i])\n",
    "    num_cars[i] = len(gt_box)"
   ]
  },
  {
   "cell_type": "code",
   "execution_count": 11,
   "metadata": {
    "collapsed": false
   },
   "outputs": [
    {
     "data": {
      "text/plain": [
       "{0.0: 3723,\n",
       " 1.0: 2086,\n",
       " 2.0: 1408,\n",
       " 3.0: 1020,\n",
       " 4.0: 1003,\n",
       " 5.0: 913,\n",
       " 6.0: 697,\n",
       " 7.0: 463,\n",
       " 8.0: 318,\n",
       " 9.0: 241,\n",
       " 10.0: 170,\n",
       " 11.0: 117,\n",
       " 12.0: 103,\n",
       " 13.0: 79,\n",
       " 14.0: 86,\n",
       " 15.0: 44,\n",
       " 16.0: 4,\n",
       " 17.0: 2,\n",
       " 18.0: 4,\n",
       " 19.0: 1}"
      ]
     },
     "execution_count": 11,
     "metadata": {},
     "output_type": "execute_result"
    }
   ],
   "source": [
    "unique, counts = np.unique(num_cars, return_counts=True)\n",
    "dict(zip(unique, counts))"
   ]
  },
  {
   "cell_type": "code",
   "execution_count": 5,
   "metadata": {
    "collapsed": false
   },
   "outputs": [
    {
     "name": "stdout",
     "output_type": "stream",
     "text": [
      "[0.0, 1.0, 2.0, 3.0, 4.0, 5.0, 6.0, 7.0, 8.0, 9.0, 10.0, 11.0, 12.0, 13.0, 14.0, 15.0, 16.0, 17.0, 18.0, 19.0]\n"
     ]
    }
   ],
   "source": [
    "indx = {}\n",
    "for i in range(len(num_cars)):\n",
    "    if num_cars[i] not in indx.keys():\n",
    "        indx[num_cars[i]] = [i]\n",
    "    else:\n",
    "        indx[num_cars[i]].append(i)\n",
    "print(indx.keys())"
   ]
  },
  {
   "cell_type": "code",
   "execution_count": 6,
   "metadata": {
    "collapsed": false
   },
   "outputs": [
    {
     "name": "stdout",
     "output_type": "stream",
     "text": [
      "True\n"
     ]
    }
   ],
   "source": [
    "import pickle\n",
    "\n",
    "with open('./saved_model/numcar_ind.pickle', 'wb') as f:\n",
    "    pickle.dump(indx, f)\n",
    "\n",
    "with open('./saved_model/numcar_ind.pickle', 'rb') as f:\n",
    "    ind_load = pickle.load(f)\n",
    "\n",
    "print(indx == ind_load)\n"
   ]
  },
  {
   "cell_type": "code",
   "execution_count": 8,
   "metadata": {
    "collapsed": false
   },
   "outputs": [
    {
     "name": "stdout",
     "output_type": "stream",
     "text": [
      "372\n"
     ]
    }
   ],
   "source": [
    "print(int(0.1*len(ind_load[0])))"
   ]
  },
  {
   "cell_type": "code",
   "execution_count": 11,
   "metadata": {
    "collapsed": false
   },
   "outputs": [
    {
     "name": "stdout",
     "output_type": "stream",
     "text": [
      "(9131, 9131)\n"
     ]
    }
   ],
   "source": [
    "def undersample_data(list_of_lidar, list_of_gtbox, pickle_index, percent_noncar = 0.1):\n",
    "    with open(pickle_index, 'rb') as f:\n",
    "        ind_load = pickle.load(f)\n",
    "    size_noncar = int(0.1*len(ind_load[0]))\n",
    "    ind_0 = list(np.random.choice(ind_load[0], size=size_noncar, replace=False))\n",
    "    for i in range(1, len(ind_load)):\n",
    "        ind_0 += ind_load[i]\n",
    "    new_list_of_lidar = [list_of_lidar[i] for i in ind_0]\n",
    "    new_list_of_gtbox = [list_of_gtbox[i] for i in ind_0]\n",
    "   \n",
    "    return new_list_of_lidar, new_list_of_gtbox\n",
    "\n",
    "pickle_index = './saved_model/numcar_ind.pickle'\n",
    "new_list_of_lidar, new_list_of_gtbox = undersample_data(list_of_lidar, list_of_gtbox, \n",
    "                                                       pickle_index, percent_noncar = 0.1)\n",
    "print(len(new_list_of_lidar), len(new_list_of_gtbox))"
   ]
  },
  {
   "cell_type": "code",
   "execution_count": null,
   "metadata": {
    "collapsed": true
   },
   "outputs": [],
   "source": []
  },
  {
   "cell_type": "code",
   "execution_count": null,
   "metadata": {
    "collapsed": true
   },
   "outputs": [],
   "source": []
  },
  {
   "cell_type": "code",
   "execution_count": 24,
   "metadata": {
    "collapsed": false
   },
   "outputs": [
    {
     "name": "stdout",
     "output_type": "stream",
     "text": [
      "(0.0, ' : ', 10142, 3723)\n",
      "(1.0, ' : ', 7244, 2086)\n",
      "(2.0, ' : ', 1249, 1408)\n",
      "(3.0, ' : ', 8034, 1020)\n",
      "(4.0, ' : ', 7516, 1003)\n",
      "(5.0, ' : ', 1465, 913)\n",
      "(6.0, ' : ', 3564, 697)\n",
      "(7.0, ' : ', 3042, 463)\n",
      "(8.0, ' : ', 896, 318)\n",
      "(9.0, ' : ', 4277, 241)\n",
      "(10.0, ' : ', 11149, 170)\n",
      "(11.0, ' : ', 11074, 117)\n",
      "(12.0, ' : ', 11246, 103)\n",
      "(13.0, ' : ', 12287, 79)\n",
      "(14.0, ' : ', 12381, 86)\n",
      "(15.0, ' : ', 12406, 44)\n",
      "(16.0, ' : ', 12370, 4)\n",
      "(17.0, ' : ', 677, 2)\n",
      "(18.0, ' : ', 681, 4)\n",
      "(19.0, ' : ', 680, 1)\n"
     ]
    }
   ],
   "source": [
    "for i in indx.keys():\n",
    "    print(i,' : ',np.random.choice(indx[i]), len(indx[i]) )"
   ]
  },
  {
   "cell_type": "code",
   "execution_count": null,
   "metadata": {
    "collapsed": true
   },
   "outputs": [],
   "source": []
  }
 ],
 "metadata": {
  "anaconda-cloud": {},
  "kernelspec": {
   "display_name": "Python [conda env:tf_py27]",
   "language": "python",
   "name": "conda-env-tf_py27-py"
  },
  "language_info": {
   "codemirror_mode": {
    "name": "ipython",
    "version": 2
   },
   "file_extension": ".py",
   "mimetype": "text/x-python",
   "name": "python",
   "nbconvert_exporter": "python",
   "pygments_lexer": "ipython2",
   "version": "2.7.13"
  }
 },
 "nbformat": 4,
 "nbformat_minor": 1
}
