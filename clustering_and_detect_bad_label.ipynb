{
 "cells": [
  {
   "cell_type": "code",
   "execution_count": 1,
   "metadata": {
    "collapsed": true
   },
   "outputs": [],
   "source": [
    "import numpy as np\n",
    "import matplotlib.pyplot as plt\n",
    "%matplotlib inline\n",
    "from util_func import *\n",
    "from test_on_udacity_data import *\n",
    "from convert_to_full_view_panorama import cluster\n",
    "from sklearn.cluster import DBSCAN\n",
    "import os\n",
    "import time"
   ]
  },
  {
   "cell_type": "code",
   "execution_count": 2,
   "metadata": {
    "collapsed": true
   },
   "outputs": [],
   "source": [
    "def nearby_car(cluster, gt_box, k = 1):\n",
    "    if len(gt_box) == 0:\n",
    "        return False\n",
    "    for i in range(len(gt_box)):\n",
    "        center = np.mean(cluster[:,:2], axis = 0)\n",
    "        box_center = np.mean(gt_box[i][[0,2],:2], axis = 0 )\n",
    "        distance =  np.sqrt(np.sum(np.square(center - box_center)))    \n",
    "        \n",
    "        box_diagonal = np.sqrt(np.sum(np.square(gt_box[i][0,:2] - gt_box[i][2,:2])))\n",
    "        # The k parameter is used to control the distance from cluster to box_center\n",
    "        if distance <= k*box_diagonal:\n",
    "            return True\n",
    "        else:\n",
    "            return False"
   ]
  },
  {
   "cell_type": "code",
   "execution_count": 22,
   "metadata": {
    "collapsed": false
   },
   "outputs": [],
   "source": [
    "def is_good_label(lidar, gt_box, k=1):\n",
    "    '''\n",
    "    return:\n",
    "        -1 : if no cluster is found. We better to check the frame by own eyes. Remove this frame from training set\n",
    "                because there is a gt_box but the training panoramic view is full of zeros.\n",
    "        0 : if no cluster is near to the gt_box\n",
    "        if at least one cluster is near to gt_box, the function return the number of near cluster  \n",
    "    '''\n",
    "    \n",
    "    assert len(gt_box) > 0, \"Empty groundtruth box\"\n",
    "    \n",
    "    lidar, labels = cluster(lidar, min_d = 2, min_z = -1.35, max_z = 0.5, max_xrange = 6,\n",
    "                             max_yrange = 6, min_xrange = 0.5, min_yrange = 0.5,  \n",
    "                             min_zrange = 0.2, min_points = 15, z_scale = 1,eps = 0.8, min_samples = 3)\n",
    "    # list of clusters\n",
    "    clusters = list(set(labels))\n",
    "    n_clusters = len(clusters)\n",
    "    \n",
    "    if n_clusters == 0:\n",
    "        return -1\n",
    "    \n",
    "    n_near_clusters = 0\n",
    "    \n",
    "    for i in range(n_clusters):\n",
    "        cluster_lidar = lidar[labels == clusters[i]]\n",
    "        if nearby_car(cluster_lidar, gt_box):\n",
    "            n_near_clusters += 1\n",
    "            # we can save the car cluster separately in this step\n",
    "    return n_near_clusters"
   ]
  },
  {
   "cell_type": "markdown",
   "metadata": {},
   "source": [
    "### Visualize the code"
   ]
  },
  {
   "cell_type": "code",
   "execution_count": 26,
   "metadata": {
    "collapsed": true
   },
   "outputs": [],
   "source": [
    "def visualize_each_cluster(lidar, labels, gtbox=None): \n",
    "    clusters = list(set(labels))\n",
    "    n_clusters = len(clusters)\n",
    "    print('Number of clustering: ', n_clusters)\n",
    "    for i in range(n_clusters):\n",
    "        print(i+1,' - cluster: ',clusters[i])\n",
    "        #viz_mayavi_clustering_lidar(lidar2[labels2 == clusters[i]], labels2[labels2 == clusters[i]])\n",
    "        print(lidar[labels == clusters[i]].shape)\n",
    "        if gtbox != None:\n",
    "            viz_mayavi_with_labels(lidar[labels == clusters[i]], gtbox)\n",
    "        else:\n",
    "            viz_mayavi_with_labels(lidar[labels == clusters[i]], [], False)"
   ]
  },
  {
   "cell_type": "code",
   "execution_count": 20,
   "metadata": {
    "collapsed": false
   },
   "outputs": [],
   "source": [
    "## We cant dectect any cluster in this frame.  \n",
    "\n",
    "lidar = np.load('./data/training_didi_data/car_train_edited/suburu_driving_towards_it/lidar/lidar_108.npy')\n",
    "gtbox = np.load('./data/training_didi_data/car_train_gt_box_edited/suburu_driving_towards_it/gt_boxes3d/gt_boxes3d_108.npy')\n",
    "\n",
    "viz_mayavi_with_labels(lidar, gtbox) "
   ]
  },
  {
   "cell_type": "code",
   "execution_count": 23,
   "metadata": {
    "collapsed": false
   },
   "outputs": [
    {
     "name": "stdout",
     "output_type": "stream",
     "text": [
      "-1\n"
     ]
    }
   ],
   "source": [
    "print(is_good_label(lidar,gtbox))"
   ]
  },
  {
   "cell_type": "code",
   "execution_count": 24,
   "metadata": {
    "collapsed": true
   },
   "outputs": [],
   "source": [
    "## Detect 2 good clusters this frame. Both of them is belong to one car. Increase eps can make them to one cluster   \n",
    "\n",
    "lidar = np.load('./data/training_didi_data/car_train_edited/suburu_follows_capture/lidar/lidar_228.npy')\n",
    "gtbox = np.load('./data/training_didi_data/car_train_gt_box_edited/suburu_follows_capture/gt_boxes3d/gt_boxes3d_228.npy')\n",
    "\n",
    "viz_mayavi_with_labels(lidar, gtbox) "
   ]
  },
  {
   "cell_type": "code",
   "execution_count": 17,
   "metadata": {
    "collapsed": false
   },
   "outputs": [
    {
     "name": "stdout",
     "output_type": "stream",
     "text": [
      "2\n"
     ]
    }
   ],
   "source": [
    "print(is_good_label(lidar,gtbox))"
   ]
  },
  {
   "cell_type": "code",
   "execution_count": 27,
   "metadata": {
    "collapsed": false
   },
   "outputs": [
    {
     "name": "stdout",
     "output_type": "stream",
     "text": [
      "Number of clustering:  2\n",
      "1  - cluster:  0\n",
      "(33, 3)\n"
     ]
    },
    {
     "name": "stderr",
     "output_type": "stream",
     "text": [
      "/home/minh/anaconda3/envs/tensorflow/lib/python3.5/site-packages/ipykernel/__main__.py:9: FutureWarning: comparison to `None` will result in an elementwise object comparison in the future.\n"
     ]
    },
    {
     "name": "stdout",
     "output_type": "stream",
     "text": [
      "2  - cluster:  1\n",
      "(36, 3)\n"
     ]
    }
   ],
   "source": [
    "lidar, labels = cluster(lidar, min_d = 2, min_z = -1.4, max_z = 0.5, max_xrange = 6,\n",
    "                             max_yrange = 6, min_xrange = 0.5, min_yrange = 0.5,  \n",
    "                             min_zrange = 0.2, min_points = 15, z_scale = 1,eps = 0.8, min_samples = 1)\n",
    "visualize_each_cluster(lidar, labels, gtbox)"
   ]
  },
  {
   "cell_type": "code",
   "execution_count": 43,
   "metadata": {
    "collapsed": true
   },
   "outputs": [],
   "source": [
    "## Detect one cluster but the gt_box is bad\n",
    "\n",
    "lidar = np.load('./data/training_didi_data/car_train_edited/suburu_pulling_to_right/lidar/lidar_181.npy')\n",
    "gtbox = np.load('./data/training_didi_data/car_train_gt_box_edited/suburu_pulling_to_right/gt_boxes3d/gt_boxes3d_181.npy')\n",
    "\n",
    "viz_mayavi_with_labels(lidar, gtbox) "
   ]
  },
  {
   "cell_type": "code",
   "execution_count": 44,
   "metadata": {
    "collapsed": false
   },
   "outputs": [
    {
     "name": "stdout",
     "output_type": "stream",
     "text": [
      "0\n",
      "Number of clustering:  1\n",
      "1  - cluster:  0\n",
      "(4829, 3)\n"
     ]
    },
    {
     "name": "stderr",
     "output_type": "stream",
     "text": [
      "/home/minh/anaconda3/envs/tensorflow/lib/python3.5/site-packages/ipykernel/__main__.py:9: FutureWarning: comparison to `None` will result in an elementwise object comparison in the future.\n"
     ]
    }
   ],
   "source": [
    "print(is_good_label(lidar,gtbox))\n",
    "cluster_lidar, labels = cluster(lidar, min_d = 2, min_z = -1.35, max_z = 0.5, max_xrange = 6,\n",
    "                             max_yrange = 6, min_xrange = 0.5, min_yrange = 0.5,  \n",
    "                             min_zrange = 0.2, min_points = 15, z_scale = 1,eps = 0.8, min_samples = 1)\n",
    "visualize_each_cluster(cluster_lidar, labels, gtbox)"
   ]
  },
  {
   "cell_type": "markdown",
   "metadata": {},
   "source": [
    "#### Detect all bad label and save car_points, not_car_points"
   ]
  },
  {
   "cell_type": "code",
   "execution_count": null,
   "metadata": {
    "collapsed": true
   },
   "outputs": [],
   "source": [
    "def create_car_training(lidar_dir, gtbox_dir, car_dir, not_car_dir):\n",
    "    # create folders contains car and not_car lidar points if not exist\n",
    "    if not os.path.exists(car_dir):\n",
    "        os.mkdir(car_dir)\n",
    "    if not os.path.exists(not_car_dir):\n",
    "        os.mkdir(not_car_dir)\n",
    "    # list of subfolders containing car lidar\n",
    "    list_folders = os.listdir(lidar_dir)\n",
    "    print('Begin converting {} lidar folders.'.format(len(list_folders)))\n",
    "    start = time.time()\n",
    "    log = open('log_cars.txt', 'a')\n",
    "    bad_car_labels = open('bad_car_labels.txt', 'a')\n",
    "    for folder in list_folders:\n",
    "        lidar_folder = os.path.join(lidar_dir, folder, 'lidar')\n",
    "        gtbox_folder = os.path.join(gtbox_dir, folder, 'gt_boxes3d')\n",
    "        \n",
    "        car_folder = os.path.join(car_dir, folder)\n",
    "        not_car_folder = os.path.join(not_car_dir, folder)\n",
    "        \n",
    "        if not os.path.exists(car_folder):\n",
    "            os.mkdir(car_folder)\n",
    "        if not os.path.exists(not_car_folder):\n",
    "            os.mkdir(not_car_folder)\n",
    "        # list of all lidar frame\n",
    "        list_lidar_files = os.listdir(lidar_folder)\n",
    "        #list_lidar_files = list_lidar_files[:5]\n",
    "        #print(list_lidar_files)\n",
    "        \n",
    "        print('Begin converting {0} lidar files in folder {1}'.format(len(list_lidar_files), folder))\n",
    "        \n",
    "        for file in list_lidar_files:\n",
    "            # load lidar frame and gt_box\n",
    "            #print(file)\n",
    "            lidar = np.load(os.path.join(lidar_folder,file))\n",
    "            gt_box = np.load(os.path.join(gtbox_folder,'gt_boxes3d'+file[5:]))\n",
    "            # clustering lidar frame\n",
    "            #lidar, labels = clustering(lidar, min_d = 2, min_z = -1.4, max_z = 0.5, max_xrange = 1, \n",
    "            #       max_yrange = 1, min_zrange = 0.5, min_points = 20, z_scale = 10.,eps = 0.2, min_samples = 3)\n",
    "            lidar, labels = clustering(lidar, min_d = 2, min_z = -1.4, max_z = 2, max_xrange = 5,\n",
    "                             max_yrange = 5, min_xrange = 0.5, min_yrange = 0.5,  \n",
    "                             min_zrange = 0.2, min_points = 50, z_scale = 2,eps = 0.7, min_samples = 3)\n",
    "            # list of clusters\n",
    "            clusters = list(set(labels))\n",
    "            n_clusters = len(clusters)\n",
    "            if n_clusters == 0:\n",
    "                log.write(folder+'-'+file + ' num_gtbox:' + str(len(gt_box)) + ' clusters:0\\n')\n",
    "                bad_car_labels.write(folder+'-'+file + ' num_gtbox:' + str(len(gt_box)) + ' clusters:0\\n')\n",
    "            else:\n",
    "                n_cars = 0\n",
    "                n_not_cars = 0\n",
    "                for i in range(n_clusters):\n",
    "                    cluster = lidar[labels == clusters[i]]\n",
    "                    if nearby_car(cluster, gt_box):\n",
    "                        np.save(os.path.join(car_folder,'car_' + file[5:-4] + '_' + str(n_cars) + '.npy'), cluster)\n",
    "                        n_cars += 1\n",
    "                    else:\n",
    "                        np.save(os.path.join(not_car_folder,'not_car_' + file[5:-4]) +'_'+ str(n_not_cars) + '.npy', cluster)\n",
    "                        n_not_cars += 1\n",
    "                log.write(folder+'-'+file + ' num_gtbox:' + str(len(gt_box)) +  ' cars:' + str(n_cars) + ' not_cars:' + str(n_not_cars) + '\\n')\n",
    "                if n_cars != len(gt_box):\n",
    "                    bad_car_labels.write(folder+'-'+file + ' num_gtbox:' + str(len(gt_box)) +  ' cars:' + str(n_cars) + ' not_cars:' + str(n_not_cars) + '\\n')\n",
    "    log.close()\n",
    "    bad_car_labels.close()\n",
    "    print('Done creating training data. Total time: ', time.time() - start)"
   ]
  },
  {
   "cell_type": "code",
   "execution_count": null,
   "metadata": {
    "collapsed": true
   },
   "outputs": [],
   "source": []
  }
 ],
 "metadata": {
  "anaconda-cloud": {},
  "kernelspec": {
   "display_name": "Python [conda env:tensorflow]",
   "language": "python",
   "name": "conda-env-tensorflow-py"
  },
  "language_info": {
   "codemirror_mode": {
    "name": "ipython",
    "version": 3
   },
   "file_extension": ".py",
   "mimetype": "text/x-python",
   "name": "python",
   "nbconvert_exporter": "python",
   "pygments_lexer": "ipython3",
   "version": "3.5.2"
  }
 },
 "nbformat": 4,
 "nbformat_minor": 1
}
