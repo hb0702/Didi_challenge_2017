{
 "cells": [
  {
   "cell_type": "code",
   "execution_count": 1,
   "metadata": {
    "collapsed": false,
    "deletable": true,
    "editable": true
   },
   "outputs": [
    {
     "name": "stderr",
     "output_type": "stream",
     "text": [
      "Using TensorFlow backend.\n"
     ]
    }
   ],
   "source": [
    "import numpy as np\n",
    "import tensorflow as tf\n",
    "import keras\n",
    "from keras.models import load_model\n",
    "import os\n",
    "\n",
    "from keras.optimizers import Adam\n",
    "\n",
    "from fully_conv_model_for_lidar import fcn_model\n",
    "from util_func import *\n",
    "from train import *\n",
    "\n",
    "from keras.utils.generic_utils import get_custom_objects\n",
    "#loss = SSD_Loss(neg_pos_ratio=neg_pos_ratio, alpha=alpha)\n",
    "get_custom_objects().update({\"my_loss\": my_loss})\n",
    "\n",
    "#import keras.losses\n",
    "#keras.losses.custom_loss = my_loss"
   ]
  },
  {
   "cell_type": "code",
   "execution_count": 2,
   "metadata": {
    "collapsed": false,
    "deletable": true,
    "editable": true
   },
   "outputs": [
    {
     "name": "stdout",
     "output_type": "stream",
     "text": [
      "[<tf.Tensor 'gradients/split_1_grad/concat:0' shape=(?, 64, 256, 8) dtype=float32>, None, None]\n"
     ]
    }
   ],
   "source": [
    "model = load_model('saved_model/model_with_augmentation.h5')"
   ]
  },
  {
   "cell_type": "code",
   "execution_count": 3,
   "metadata": {
    "collapsed": false,
    "deletable": true,
    "editable": true
   },
   "outputs": [],
   "source": [
    "lidar = np.load('./extract_kiti/0005/lidar/lidar_0.npy')\n",
    "gt_box = np.load('./extract_kiti/0005/gt_boxes3d/gt_boxes3d_0.npy')\n",
    "#view, box = cylindrical_projection_for_training(lidar, gt_box)\n",
    "#print(view.shape, box.shape)"
   ]
  },
  {
   "cell_type": "code",
   "execution_count": 4,
   "metadata": {
    "collapsed": true
   },
   "outputs": [],
   "source": [
    "# offset_range = 5*np.pi/180\n",
    "# flip = 1\n",
    "# offset = np.random.uniform(low=-offset_range, high=offset_range)\n",
    "# lidar, gt_box = augmentation(offset, flip, lidar, gt_box)"
   ]
  },
  {
   "cell_type": "code",
   "execution_count": 5,
   "metadata": {
    "collapsed": false
   },
   "outputs": [],
   "source": [
    "flip = 1\n",
    "offset = 0\n",
    "lidar, gt_box = augmentation(offset, flip, lidar, gt_box)"
   ]
  },
  {
   "cell_type": "code",
   "execution_count": 6,
   "metadata": {
    "collapsed": true
   },
   "outputs": [],
   "source": [
    "viz_mayavi_with_labels(lidar, gt_box)"
   ]
  },
  {
   "cell_type": "code",
   "execution_count": 7,
   "metadata": {
    "collapsed": false
   },
   "outputs": [],
   "source": [
    "view, box = cylindrical_projection_for_training(lidar, gt_box)\n",
    "#new_view, new_box = cylindrical_projection_for_training(new_lidar, new_gt_box)\n",
    "#print(view.shape, box.shape)"
   ]
  },
  {
   "cell_type": "code",
   "execution_count": 8,
   "metadata": {
    "collapsed": false
   },
   "outputs": [],
   "source": [
    "# import matplotlib.pyplot as plt\n",
    "# %matplotlib inline\n",
    "# fig, ax = plt.subplots(2,1, figsize = (25,15))\n",
    "# ax[0].imshow(view[:,:,0])\n",
    "# ax[1].imshow(new_view[:,:,0])"
   ]
  },
  {
   "cell_type": "code",
   "execution_count": 9,
   "metadata": {
    "collapsed": false,
    "deletable": true,
    "editable": true
   },
   "outputs": [
    {
     "name": "stdout",
     "output_type": "stream",
     "text": [
      "(1, 64, 256, 8)\n"
     ]
    }
   ],
   "source": [
    "view = view.reshape(1,64,256,2)\n",
    "pred = model.predict(view)\n",
    "print(pred.shape)"
   ]
  },
  {
   "cell_type": "code",
   "execution_count": 10,
   "metadata": {
    "collapsed": false,
    "deletable": true,
    "editable": true
   },
   "outputs": [
    {
     "name": "stdout",
     "output_type": "stream",
     "text": [
      "(64, 256, 5)\n"
     ]
    }
   ],
   "source": [
    "label_view = cylindrical_projection_for_test(lidar)\n",
    "print(label_view.shape)"
   ]
  },
  {
   "cell_type": "code",
   "execution_count": 11,
   "metadata": {
    "collapsed": true,
    "deletable": true,
    "editable": true
   },
   "outputs": [],
   "source": [
    "pred_view = pred[0]\n"
   ]
  },
  {
   "cell_type": "code",
   "execution_count": 12,
   "metadata": {
    "collapsed": true,
    "deletable": true,
    "editable": true
   },
   "outputs": [],
   "source": [
    "boxes = np.zeros((64,256,8,3))\n",
    "for i in range(64):\n",
    "    for j in range(256):\n",
    "        boxes[i,j,0] = label_view[i,j,:3] - rotation(label_view[i,j,3],pred_view[i,j,1:4])\n",
    "        boxes[i,j,6] = label_view[i,j,:3] - rotation(label_view[i,j,3],pred_view[i,j,4:7])\n",
    "        boxes[i,j,2,:2] = boxes[i,j,6,:2]\n",
    "        boxes[i,j,2,2] = boxes[i,j,0,2]\n",
    "        \n",
    "        phi = pred_view[i,j,-1]\n",
    "        z = boxes[i,j,2] - boxes[i,j,0]\n",
    "        boxes[i,j,1,0] = (np.cos(phi)*z[0] + np.sin(phi)*z[1])*np.cos(phi) + boxes[i,j,0,0]\n",
    "        boxes[i,j,1,1] = (-np.sin(phi)*z[0] + np.cos(phi)*z[1])*np.cos(phi) + boxes[i,j,0,1]\n",
    "        boxes[i,j,1,2] = boxes[i,j,0,2]\n",
    "        \n",
    "        boxes[i,j,3] = boxes[i,j,0] + boxes[i,j,2] - boxes[i,j,1]\n",
    "        boxes[i,j,4] = boxes[i,j,0] + boxes[i,j,6] - boxes[i,j,2]\n",
    "        boxes[i,j,5] = boxes[i,j,1] + boxes[i,j,4] - boxes[i,j,0]\n",
    "        boxes[i,j,7] = boxes[i,j,4] + boxes[i,j,6] - boxes[i,j,5]\n"
   ]
  },
  {
   "cell_type": "code",
   "execution_count": 13,
   "metadata": {
    "collapsed": false,
    "deletable": true,
    "editable": true
   },
   "outputs": [
    {
     "name": "stdout",
     "output_type": "stream",
     "text": [
      "(1067, 8, 3)\n"
     ]
    }
   ],
   "source": [
    "pred_boxes = boxes[pred_view[:,:,0]>0.5].reshape(-1,8,3)\n",
    "print(pred_boxes.shape)"
   ]
  },
  {
   "cell_type": "code",
   "execution_count": 14,
   "metadata": {
    "collapsed": true,
    "deletable": true,
    "editable": true
   },
   "outputs": [],
   "source": [
    "#viz_mayavi_with_labels(lidar, pred_boxes[[1,100,200,500,1000]])"
   ]
  },
  {
   "cell_type": "code",
   "execution_count": 15,
   "metadata": {
    "collapsed": true
   },
   "outputs": [],
   "source": [
    "viz_mayavi_with_labels(lidar, pred_boxes[100:120])"
   ]
  },
  {
   "cell_type": "code",
   "execution_count": 16,
   "metadata": {
    "collapsed": false,
    "deletable": true,
    "editable": true
   },
   "outputs": [
    {
     "data": {
      "text/plain": [
       "<matplotlib.image.AxesImage at 0x7f9b7dfed450>"
      ]
     },
     "execution_count": 16,
     "metadata": {},
     "output_type": "execute_result"
    },
    {
     "data": {
      "image/png": "[encoded data removed]",
      "text/plain": [
       "<matplotlib.figure.Figure at 0x7f9b7e3a69d0>"
      ]
     },
     "metadata": {},
     "output_type": "display_data"
    }
   ],
   "source": [
    "import matplotlib.pyplot as plt\n",
    "%matplotlib inline\n",
    "fig, ax = plt.subplots(2,1, figsize=(24,10))\n",
    "ax[0].imshow(pred_view[:,:,0])\n",
    "    #ax[1].imshow(pred_view[:,:,1])\n",
    "ax[1].imshow(box[:,:,0])\n",
    "#ax[3].imshow(view[0,:,:,1])"
   ]
  },
  {
   "cell_type": "markdown",
   "metadata": {
    "collapsed": true,
    "deletable": true,
    "editable": true
   },
   "source": [
    "## Clustering predicted boxes"
   ]
  },
  {
   "cell_type": "code",
   "execution_count": 17,
   "metadata": {
    "collapsed": false
   },
   "outputs": [
    {
     "name": "stdout",
     "output_type": "stream",
     "text": [
      "(64, 256, 8)\n",
      "(64, 256, 5)\n"
     ]
    }
   ],
   "source": [
    "print(pred_view.shape)\n",
    "print(label_view.shape)"
   ]
  },
  {
   "cell_type": "code",
   "execution_count": 18,
   "metadata": {
    "collapsed": true
   },
   "outputs": [],
   "source": [
    "boxes = pred_view.reshape(-1,8)\n",
    "labels = label_view.reshape(-1,5)\n",
    "thres_boxes = boxes[boxes[:,0] > 0.5 ]\n",
    "thres_labels = labels[boxes[:,0] > 0.5 ]"
   ]
  },
  {
   "cell_type": "code",
   "execution_count": 19,
   "metadata": {
    "collapsed": false
   },
   "outputs": [
    {
     "name": "stdout",
     "output_type": "stream",
     "text": [
      "(1067, 8)\n",
      "(1067, 5)\n"
     ]
    }
   ],
   "source": [
    "print(thres_boxes.shape)\n",
    "print(thres_labels.shape)"
   ]
  },
  {
   "cell_type": "code",
   "execution_count": 20,
   "metadata": {
    "collapsed": true
   },
   "outputs": [],
   "source": [
    "num_boxes = len(thres_boxes)\n",
    "box_dist = np.zeros((num_boxes, num_boxes))"
   ]
  },
  {
   "cell_type": "code",
   "execution_count": 21,
   "metadata": {
    "collapsed": false
   },
   "outputs": [],
   "source": [
    "centers = np.zeros((num_boxes,3))\n",
    "for i in range(num_boxes):\n",
    "    p0 = thres_labels[i,:3] - rotation(thres_labels[i,3],thres_boxes[i,1:4])\n",
    "    p6 = thres_labels[i,:3] - rotation(thres_labels[i,3],thres_boxes[i,4:7])\n",
    "    \n",
    "    centers[i] = (p0+p6)/2"
   ]
  },
  {
   "cell_type": "code",
   "execution_count": 22,
   "metadata": {
    "collapsed": true
   },
   "outputs": [],
   "source": [
    "for i in range(num_boxes):\n",
    "    box_dist[i] = np.sqrt(np.sum(np.square(centers[[i]] - centers), axis = 1)) "
   ]
  },
  {
   "cell_type": "code",
   "execution_count": 23,
   "metadata": {
    "collapsed": false
   },
   "outputs": [
    {
     "name": "stdout",
     "output_type": "stream",
     "text": [
      "------------\n",
      "289\n",
      "((648, 648), (648, 648), (16384, 8), (16384, 5))\n",
      "------------\n",
      "200\n",
      "((156, 156), (156, 156), (16384, 8), (16384, 5))\n",
      "------------\n",
      "103\n",
      "((2, 2), (2, 2), (16384, 8), (16384, 5))\n",
      "------------\n",
      "0\n",
      "3\n"
     ]
    }
   ],
   "source": [
    "dist_thres = 0.1\n",
    "neigbor_thres = 5\n",
    "min_dist = 2\n",
    "\n",
    "thres_box_dist = box_dist < dist_thres\n",
    "neighbor = np.sum(thres_box_dist, axis = 1)\n",
    "\n",
    "list_boxes = []\n",
    "list_labels = []\n",
    "while len(neighbor)>0:\n",
    "    print('------------')\n",
    "    ind = np.argmax(neighbor)\n",
    "    print(ind)\n",
    "    if neighbor[ind] < neigbor_thres:\n",
    "        break\n",
    "    \n",
    "    list_boxes.append(thres_boxes[ind])\n",
    "    list_labels.append(thres_labels[ind])\n",
    "    \n",
    "    remain_indx = box_dist[ind] > min_dist\n",
    "    #print(remain_indx.shape, thres_box_dist.shape)\n",
    "    \n",
    "    box_dist = box_dist[remain_indx]\n",
    "    box_dist = box_dist[:,remain_indx]\n",
    "    \n",
    "    thres_box_dist = thres_box_dist[remain_indx]\n",
    "    thres_box_dist = thres_box_dist[:,remain_indx]\n",
    "            \n",
    "    thres_boxes = thres_boxes[remain_indx]\n",
    "    thres_labels = thres_labels[remain_indx]\n",
    "    \n",
    "    print(box_dist.shape, thres_box_dist.shape, boxes.shape, labels.shape)\n",
    "    \n",
    "    \n",
    "    neighbor = np.sum(thres_box_dist, axis = 1)\n",
    "print(len(list_boxes))"
   ]
  },
  {
   "cell_type": "code",
   "execution_count": 24,
   "metadata": {
    "collapsed": false
   },
   "outputs": [
    {
     "name": "stdout",
     "output_type": "stream",
     "text": [
      "(3, 8, 3)\n"
     ]
    }
   ],
   "source": [
    "list_boxes = np.array(list_boxes)\n",
    "list_labels = np.array(list_labels)\n",
    "def cluster_boxes(list_boxes, list_labels):\n",
    "\n",
    "    num_boxes = len(list_boxes)\n",
    "    boxes = np.zeros((num_boxes,8,3))\n",
    "\n",
    "    for i in range(len(list_boxes)):\n",
    "        boxes[i,0] = list_labels[i,:3] - rotation(list_labels[i,3],list_boxes[i,1:4])\n",
    "        boxes[i,6] = list_labels[i,:3] - rotation(list_labels[i,3],list_boxes[i,4:7])\n",
    "        boxes[i,2,:2] = boxes[i,6,:2]\n",
    "        boxes[i,2,2] = boxes[i,0,2]\n",
    "\n",
    "        phi = list_boxes[i,-1]\n",
    "        z = boxes[i,2] - boxes[i,0]\n",
    "        boxes[i,1,0] = (np.cos(phi)*z[0] + np.sin(phi)*z[1])*np.cos(phi) + boxes[i,0,0]\n",
    "        boxes[i,1,1] = (-np.sin(phi)*z[0] + np.cos(phi)*z[1])*np.cos(phi) + boxes[i,0,1]\n",
    "        boxes[i,1,2] = boxes[i,0,2]\n",
    "\n",
    "        boxes[i,3] = boxes[i,0] + boxes[i,2] - boxes[i,1]\n",
    "        boxes[i,4] = boxes[i,0] + boxes[i,6] - boxes[i,2]\n",
    "        boxes[i,5] = boxes[i,1] + boxes[i,4] - boxes[i,0]\n",
    "        boxes[i,7] = boxes[i,4] + boxes[i,6] - boxes[i,5]\n",
    "    return boxes\n",
    "\n",
    "    \n",
    "predict_boxes = cluster_boxes(list_boxes, list_labels)\n",
    "print(predict_boxes.shape)"
   ]
  },
  {
   "cell_type": "code",
   "execution_count": 25,
   "metadata": {
    "collapsed": true
   },
   "outputs": [],
   "source": [
    "viz_mayavi_with_labels(lidar, predict_boxes)"
   ]
  },
  {
   "cell_type": "code",
   "execution_count": 26,
   "metadata": {
    "collapsed": false
   },
   "outputs": [
    {
     "data": {
      "text/plain": [
       "0"
      ]
     },
     "execution_count": 26,
     "metadata": {},
     "output_type": "execute_result"
    }
   ],
   "source": [
    "np.random.randint(2)"
   ]
  },
  {
   "cell_type": "code",
   "execution_count": null,
   "metadata": {
    "collapsed": true,
    "deletable": true,
    "editable": true
   },
   "outputs": [],
   "source": []
  },
  {
   "cell_type": "code",
   "execution_count": null,
   "metadata": {
    "collapsed": true,
    "deletable": true,
    "editable": true
   },
   "outputs": [],
   "source": []
  },
  {
   "cell_type": "code",
   "execution_count": null,
   "metadata": {
    "collapsed": true,
    "deletable": true,
    "editable": true
   },
   "outputs": [],
   "source": []
  },
  {
   "cell_type": "code",
   "execution_count": null,
   "metadata": {
    "collapsed": true,
    "deletable": true,
    "editable": true
   },
   "outputs": [],
   "source": []
  },
  {
   "cell_type": "markdown",
   "metadata": {
    "deletable": true,
    "editable": true
   },
   "source": [
    "### Continue training"
   ]
  },
  {
   "cell_type": "markdown",
   "metadata": {
    "collapsed": true,
    "deletable": true,
    "editable": true
   },
   "source": [
    "data_dir = './extract_kiti/'\n",
    "\n",
    "list_of_lidar, list_of_gtbox = list_of_data(data_dir)\n",
    "\n",
    "# test on just one sample\n",
    "list_of_lidar = [list_of_lidar[108]]\n",
    "list_of_gtbox = [list_of_gtbox[108]]"
   ]
  },
  {
   "cell_type": "markdown",
   "metadata": {
    "collapsed": false,
    "deletable": true,
    "editable": true
   },
   "source": [
    "model.fit_generator(generator=train_batch_generator(list_of_lidar, list_of_gtbox, batch_size = 1, data_augmentation = False),\n",
    "                        epochs=500)\n",
    "model.save(\"saved_model/model_test.h5\")"
   ]
  },
  {
   "cell_type": "code",
   "execution_count": null,
   "metadata": {
    "collapsed": true,
    "deletable": true,
    "editable": true
   },
   "outputs": [],
   "source": []
  }
 ],
 "metadata": {
  "anaconda-cloud": {},
  "kernelspec": {
   "display_name": "Python [conda env:tf_py27]",
   "language": "python",
   "name": "conda-env-tf_py27-py"
  },
  "language_info": {
   "codemirror_mode": {
    "name": "ipython",
    "version": 2
   },
   "file_extension": ".py",
   "mimetype": "text/x-python",
   "name": "python",
   "nbconvert_exporter": "python",
   "pygments_lexer": "ipython2",
   "version": "2.7.13"
  }
 },
 "nbformat": 4,
 "nbformat_minor": 2
}
