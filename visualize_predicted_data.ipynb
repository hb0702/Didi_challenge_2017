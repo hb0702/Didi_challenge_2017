{
 "cells": [
  {
   "cell_type": "code",
   "execution_count": 1,
   "metadata": {
    "collapsed": false,
    "deletable": true,
    "editable": true
   },
   "outputs": [
    {
     "name": "stderr",
     "output_type": "stream",
     "text": [
      "Using TensorFlow backend.\n"
     ]
    }
   ],
   "source": [
    "import numpy as np\n",
    "import tensorflow as tf\n",
    "import keras\n",
    "from keras.models import load_model\n",
    "import os\n",
    "\n",
    "from keras.optimizers import Adam\n",
    "\n",
    "from fully_conv_model_for_lidar import fcn_model\n",
    "from util_func import *\n",
    "from train import *\n",
    "\n",
    "from keras.utils.generic_utils import get_custom_objects\n",
    "#loss = SSD_Loss(neg_pos_ratio=neg_pos_ratio, alpha=alpha)\n",
    "get_custom_objects().update({\"my_loss\": my_loss})\n",
    "\n",
    "#import keras.losses\n",
    "#keras.losses.custom_loss = my_loss"
   ]
  },
  {
   "cell_type": "code",
   "execution_count": 2,
   "metadata": {
    "collapsed": false,
    "deletable": true,
    "editable": true
   },
   "outputs": [
    {
     "name": "stdout",
     "output_type": "stream",
     "text": [
      "[<tf.Tensor 'gradients/split_1_grad/concat:0' shape=(?, 64, 256, 8) dtype=float32>, None, None]\n"
     ]
    }
   ],
   "source": [
    "model = load_model('saved_model//model_2_normal_1_frame.h5')"
   ]
  },
  {
   "cell_type": "code",
   "execution_count": 3,
   "metadata": {
    "collapsed": false
   },
   "outputs": [
    {
     "name": "stdout",
     "output_type": "stream",
     "text": [
      "0\n"
     ]
    }
   ],
   "source": [
    "#n = np.random.randint(154)\n",
    "n = 0\n",
    "print(n)\n",
    "lidar = np.load('./extract_kiti/0005/lidar/lidar_'+ str(n) + '.npy')\n",
    "gt_box = np.load('./extract_kiti/0005/gt_boxes3d/gt_boxes3d_'+ str(n) + '.npy')\n",
    "#view, box = cylindrical_projection_for_training(lidar, gt_box)\n",
    "#print(view.shape, box.shape)"
   ]
  },
  {
   "cell_type": "code",
   "execution_count": 8,
   "metadata": {
    "collapsed": false
   },
   "outputs": [
    {
     "name": "stdout",
     "output_type": "stream",
     "text": [
      "-0.00359992685331\n"
     ]
    }
   ],
   "source": [
    "offset_range = 5*np.pi/180\n",
    "#flip = np.random.randint(2)\n",
    "flip = 1\n",
    "offset = np.random.uniform(low=-offset_range, high=offset_range)\n",
    "#offset = -5*np.pi/180\n",
    "#offset = 0\n",
    "print(offset)\n",
    "lidar, gt_box = augmentation(offset, flip, lidar, gt_box)"
   ]
  },
  {
   "cell_type": "code",
   "execution_count": 6,
   "metadata": {
    "collapsed": true
   },
   "outputs": [],
   "source": [
    "import mayavi.mlab\n",
    "\n",
    "def viz_mayavi_with_labels(points, boxes, view_boxes = True, vals=\"distance\"):\n",
    "    x = points[:, 0]  # x position of point\n",
    "    y = points[:, 1]  # y position of point\n",
    "    z = points[:, 2]  # z position of pointfrom mpl_toolkits.mplot3d import Axes3D\n",
    "    # r = lidar[:, 3]  # reflectance value of point\n",
    "    d = np.sqrt(x ** 2 + y ** 2)  # Map Distance from sensor\n",
    "\n",
    "    # Plot using mayavi -Much faster and smoother than matplotlib\n",
    "    #import mayavi.mlab\n",
    "    if vals == \"height\":\n",
    "        col = z\n",
    "    else:\n",
    "        col = d\n",
    "\n",
    "    fig = mayavi.mlab.figure(bgcolor=(0, 0, 0), size=(640, 360))\n",
    "    mayavi.mlab.points3d(x, y, z,\n",
    "                         col,          # Values used for Color\n",
    "                         mode=\"point\",\n",
    "                         colormap='spectral', # 'bone', 'copper', 'gnuplot'\n",
    "                         # color=(0, 1, 0),   # Used a fixed (r,g,b) instead\n",
    "                         figure=fig,\n",
    "                         )\n",
    "    \n",
    "    if view_boxes:\n",
    "        for i in range(len(boxes)):\n",
    "            car = boxes[i]\n",
    "            x = car[:,0]\n",
    "            y = car[:,1]\n",
    "            z = car[:,2]\n",
    "\n",
    "            mayavi.mlab.plot3d(x[:4], y[:4], z[:4], tube_radius=0.025)#, colormap='Spectral')\n",
    "            mayavi.mlab.plot3d(x[[0,3]], y[[0,3]], z[[0,3]], tube_radius=0.025)\n",
    "            mayavi.mlab.plot3d(x[[0,4]], y[[0,4]], z[[0,4]], tube_radius=0.025)\n",
    "            mayavi.mlab.plot3d(x[[1,5]], y[[1,5]], z[[1,5]], tube_radius=0.025)\n",
    "            mayavi.mlab.plot3d(x[[2,6]], y[[2,6]], z[[2,6]], tube_radius=0.025)\n",
    "            mayavi.mlab.plot3d(x[[3,7]], y[[3,7]], z[[3,7]], tube_radius=0.025)\n",
    "\n",
    "\n",
    "            mayavi.mlab.plot3d(x[-4:], y[-4:], z[-4:], tube_radius=0.025)#, colormap='Spectral')\n",
    "            mayavi.mlab.plot3d(x[[4,7]], y[[4,7]], z[[4,7]], tube_radius=0.025)\n",
    "        \n",
    "    mayavi.mlab.show()"
   ]
  },
  {
   "cell_type": "code",
   "execution_count": 9,
   "metadata": {
    "collapsed": false
   },
   "outputs": [],
   "source": [
    "viz_mayavi_with_labels(lidar, gt_box)"
   ]
  },
  {
   "cell_type": "code",
   "execution_count": 10,
   "metadata": {
    "collapsed": false
   },
   "outputs": [
    {
     "name": "stdout",
     "output_type": "stream",
     "text": [
      "1073\n",
      "3\n"
     ]
    }
   ],
   "source": [
    "all_boxes, cluster_boxes = predict_boxes(model,lidar, cluster = True,\n",
    "                                         seg_thres=0.5, cluster_dist = 0.2, min_dist = 1.5, neigbor_thres = 3)\n",
    "print(len(all_boxes))\n",
    "print(len(cluster_boxes))"
   ]
  },
  {
   "cell_type": "code",
   "execution_count": 11,
   "metadata": {
    "collapsed": false
   },
   "outputs": [
    {
     "name": "stdout",
     "output_type": "stream",
     "text": [
      "[ 163  648  496  715  575  530  996 1061  753   89  917  681  885  666  483\n",
      "  518  323   15  247  574  627 1016 1024  729  143   95  468  237  745  114]\n"
     ]
    }
   ],
   "source": [
    "n_boxes = len(all_boxes)\n",
    "choosen_boxes = np.random.randint(n_boxes, size = 30)\n",
    "print(choosen_boxes)\n",
    "viz_mayavi_with_labels(lidar, all_boxes[choosen_boxes])"
   ]
  },
  {
   "cell_type": "code",
   "execution_count": 12,
   "metadata": {
    "collapsed": false
   },
   "outputs": [],
   "source": [
    "#print(len(cluster_boxes))\n",
    "viz_mayavi_with_labels(lidar, cluster_boxes)"
   ]
  },
  {
   "cell_type": "code",
   "execution_count": null,
   "metadata": {
    "collapsed": true
   },
   "outputs": [],
   "source": []
  }
 ],
 "metadata": {
  "anaconda-cloud": {},
  "kernelspec": {
   "display_name": "Python [conda env:tf_py27]",
   "language": "python",
   "name": "conda-env-tf_py27-py"
  },
  "language_info": {
   "codemirror_mode": {
    "name": "ipython",
    "version": 2
   },
   "file_extension": ".py",
   "mimetype": "text/x-python",
   "name": "python",
   "nbconvert_exporter": "python",
   "pygments_lexer": "ipython2",
   "version": "2.7.13"
  }
 },
 "nbformat": 4,
 "nbformat_minor": 2
}
