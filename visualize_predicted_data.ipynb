{
 "cells": [
  {
   "cell_type": "code",
   "execution_count": 1,
   "metadata": {
    "collapsed": false,
    "deletable": true,
    "editable": true
   },
   "outputs": [
    {
     "name": "stderr",
     "output_type": "stream",
     "text": [
      "Using TensorFlow backend.\n"
     ]
    }
   ],
   "source": [
    "import numpy as np\n",
    "import tensorflow as tf\n",
    "import keras\n",
    "from keras.models import load_model\n",
    "import os\n",
    "\n",
    "from keras.optimizers import Adam\n",
    "\n",
    "from fully_conv_model_for_lidar import fcn_model\n",
    "from util_func import *\n",
    "from train_2 import *\n",
    "\n",
    "from keras.utils.generic_utils import get_custom_objects\n",
    "#loss = SSD_Loss(neg_pos_ratio=neg_pos_ratio, alpha=alpha)\n",
    "get_custom_objects().update({\"my_loss\": my_loss})\n",
    "\n",
    "#import keras.losses\n",
    "#keras.losses.custom_loss = my_loss"
   ]
  },
  {
   "cell_type": "code",
   "execution_count": 2,
   "metadata": {
    "collapsed": false,
    "deletable": true,
    "editable": true
   },
   "outputs": [
    {
     "name": "stdout",
     "output_type": "stream",
     "text": [
      "[<tf.Tensor 'gradients/split_1_grad/concat:0' shape=(?, 64, 256, 8) dtype=float32>, None, None]\n"
     ]
    }
   ],
   "source": [
    "model = load_model('saved_model/model_May_27_195_99.h5')"
   ]
  },
  {
   "cell_type": "markdown",
   "metadata": {
    "collapsed": false
   },
   "source": [
    "data_dir = './extract_kiti/'\n",
    "list_of_view = list_of_data(data_dir)\n",
    "\n",
    "#list_of_view = list_of_data(data_dir)\n",
    "#list_of_view = [list_of_view[6831], list_of_view[7279]]\n",
    "\n",
    "n = np.random.randint(len(list_of_view))\n",
    "#n = 0\n",
    "print(n)\n",
    "view_file = list_of_view[n]\n",
    "lidar_file =  view_file[:20] + 'lidar/lidar_' + view_file[30:] \n",
    "gtbox_file = './new_gt_boxes/all_boxes/' + view_file[15:20] + 'gt_boxes3d/gt_boxes3d_' + view_file[30:]\n",
    "print(view_file)\n",
    "print(lidar_file)\n",
    "print(gtbox_file)\n",
    "\n",
    "lidar = np.load(lidar_file)\n",
    "gt_box = np.load(gtbox_file)\n",
    "view, box = cylindrical_projection_for_training(lidar, gt_box)\n",
    "print(view.shape, box.shape)"
   ]
  },
  {
   "cell_type": "code",
   "execution_count": 13,
   "metadata": {
    "collapsed": false
   },
   "outputs": [
    {
     "name": "stdout",
     "output_type": "stream",
     "text": [
      "-0.0296795099008\n"
     ]
    }
   ],
   "source": [
    "offset_range = 5*np.pi/180\n",
    "#flip = np.random.randint(2)\n",
    "flip = 0\n",
    "offset = np.random.uniform(low=-offset_range, high=offset_range)\n",
    "#offset = -5*np.pi/180\n",
    "#offset = 0\n",
    "print(offset)\n",
    "lidar, gt_box = augmentation(offset, flip, lidar, gt_box)"
   ]
  },
  {
   "cell_type": "code",
   "execution_count": 5,
   "metadata": {
    "collapsed": true
   },
   "outputs": [],
   "source": [
    "import mayavi.mlab\n",
    "\n",
    "def viz_mayavi_with_labels(points, boxes, view_boxes = True, vals=\"distance\"):\n",
    "    x = points[:, 0]  # x position of point\n",
    "    y = points[:, 1]  # y position of point\n",
    "    z = points[:, 2]  # z position of pointfrom mpl_toolkits.mplot3d import Axes3D\n",
    "    # r = lidar[:, 3]  # reflectance value of point\n",
    "    d = np.sqrt(x ** 2 + y ** 2)  # Map Distance from sensor\n",
    "\n",
    "    # Plot using mayavi -Much faster and smoother than matplotlib\n",
    "    #import mayavi.mlab\n",
    "    if vals == \"height\":\n",
    "        col = z\n",
    "    else:\n",
    "        col = d\n",
    "\n",
    "    fig = mayavi.mlab.figure(bgcolor=(0, 0, 0), size=(640, 360))\n",
    "    mayavi.mlab.points3d(x, y, z,\n",
    "                         col,          # Values used for Color\n",
    "                         mode=\"point\",\n",
    "                         colormap='spectral', # 'bone', 'copper', 'gnuplot'\n",
    "                         # color=(0, 1, 0),   # Used a fixed (r,g,b) instead\n",
    "                         figure=fig,\n",
    "                         )\n",
    "    \n",
    "    if view_boxes:\n",
    "        for i in range(len(boxes)):\n",
    "            car = boxes[i]\n",
    "            x = car[:,0]\n",
    "            y = car[:,1]\n",
    "            z = car[:,2]\n",
    "\n",
    "            mayavi.mlab.plot3d(x[:4], y[:4], z[:4], tube_radius=0.025)#, colormap='Spectral')\n",
    "            mayavi.mlab.plot3d(x[[0,3]], y[[0,3]], z[[0,3]], tube_radius=0.025)\n",
    "            mayavi.mlab.plot3d(x[[0,4]], y[[0,4]], z[[0,4]], tube_radius=0.025)\n",
    "            mayavi.mlab.plot3d(x[[1,5]], y[[1,5]], z[[1,5]], tube_radius=0.025)\n",
    "            mayavi.mlab.plot3d(x[[2,6]], y[[2,6]], z[[2,6]], tube_radius=0.025)\n",
    "            mayavi.mlab.plot3d(x[[3,7]], y[[3,7]], z[[3,7]], tube_radius=0.025)\n",
    "\n",
    "\n",
    "            mayavi.mlab.plot3d(x[-4:], y[-4:], z[-4:], tube_radius=0.025)#, colormap='Spectral')\n",
    "            mayavi.mlab.plot3d(x[[4,7]], y[[4,7]], z[[4,7]], tube_radius=0.025)\n",
    "        \n",
    "    mayavi.mlab.show()"
   ]
  },
  {
   "cell_type": "code",
   "execution_count": 14,
   "metadata": {
    "collapsed": false
   },
   "outputs": [],
   "source": [
    "viz_mayavi_with_labels(lidar, gt_box)"
   ]
  },
  {
   "cell_type": "code",
   "execution_count": 15,
   "metadata": {
    "collapsed": false
   },
   "outputs": [
    {
     "name": "stdout",
     "output_type": "stream",
     "text": [
      "1738\n",
      "5\n"
     ]
    }
   ],
   "source": [
    "all_boxes, cluster_boxes = predict_boxes(model,lidar, cluster = True,\n",
    "                                         seg_thres=0.5, cluster_dist = 0.2, min_dist = 1.5, neigbor_thres = 3)\n",
    "print(len(all_boxes))\n",
    "print(len(cluster_boxes))"
   ]
  },
  {
   "cell_type": "code",
   "execution_count": 16,
   "metadata": {
    "collapsed": false
   },
   "outputs": [
    {
     "name": "stdout",
     "output_type": "stream",
     "text": [
      "1738\n",
      "[ 456 1239  210  728  751  758  609 1003   11  338  596  505  472   24  162\n",
      " 1513 1233  472 1047  658  321  852  871  477  184 1595 1651  328 1492  635]\n"
     ]
    }
   ],
   "source": [
    "n_boxes = len(all_boxes)\n",
    "print(len(all_boxes))\n",
    "choosen_boxes = np.random.randint(n_boxes, size = 30)\n",
    "print(choosen_boxes)\n",
    "viz_mayavi_with_labels(lidar, all_boxes[choosen_boxes])"
   ]
  },
  {
   "cell_type": "code",
   "execution_count": 17,
   "metadata": {
    "collapsed": false
   },
   "outputs": [],
   "source": [
    "#print(len(cluster_boxes))\n",
    "viz_mayavi_with_labels(lidar, cluster_boxes)"
   ]
  },
  {
   "cell_type": "code",
   "execution_count": null,
   "metadata": {
    "collapsed": true
   },
   "outputs": [],
   "source": []
  }
 ],
 "metadata": {
  "anaconda-cloud": {},
  "kernelspec": {
   "display_name": "Python [conda env:tf_py27]",
   "language": "python",
   "name": "conda-env-tf_py27-py"
  },
  "language_info": {
   "codemirror_mode": {
    "name": "ipython",
    "version": 2
   },
   "file_extension": ".py",
   "mimetype": "text/x-python",
   "name": "python",
   "nbconvert_exporter": "python",
   "pygments_lexer": "ipython2",
   "version": "2.7.13"
  }
 },
 "nbformat": 4,
 "nbformat_minor": 2
}
