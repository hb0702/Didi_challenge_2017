{
 "cells": [
  {
   "cell_type": "code",
   "execution_count": 1,
   "metadata": {
    "collapsed": false,
    "deletable": true,
    "editable": true
   },
   "outputs": [
    {
     "name": "stderr",
     "output_type": "stream",
     "text": [
      "Using TensorFlow backend.\n"
     ]
    }
   ],
   "source": [
    "import numpy as np\n",
    "import tensorflow as tf\n",
    "import keras\n",
    "from keras.models import load_model\n",
    "import os\n",
    "\n",
    "from keras.optimizers import Adam\n",
    "\n",
    "from fully_conv_model_for_lidar import fcn_model\n",
    "from util_func import *\n",
    "from train import *\n",
    "\n",
    "from keras.utils.generic_utils import get_custom_objects\n",
    "#loss = SSD_Loss(neg_pos_ratio=neg_pos_ratio, alpha=alpha)\n",
    "get_custom_objects().update({\"my_loss\": my_loss})\n",
    "\n",
    "#import keras.losses\n",
    "#keras.losses.custom_loss = my_loss"
   ]
  },
  {
   "cell_type": "code",
   "execution_count": 2,
   "metadata": {
    "collapsed": false,
    "deletable": true,
    "editable": true
   },
   "outputs": [
    {
     "name": "stdout",
     "output_type": "stream",
     "text": [
      "[<tf.Tensor 'gradients/split_1_grad/concat:0' shape=(?, 64, 256, 8) dtype=float32>, None, None]\n"
     ]
    }
   ],
   "source": [
    "model = load_model('saved_model/model_2_one_frame_with_aug.h5')"
   ]
  },
  {
   "cell_type": "code",
   "execution_count": 3,
   "metadata": {
    "collapsed": false
   },
   "outputs": [
    {
     "name": "stdout",
     "output_type": "stream",
     "text": [
      "0\n"
     ]
    }
   ],
   "source": [
    "#n = np.random.randint(154)\n",
    "n = 0\n",
    "print(n)\n",
    "lidar = np.load('./extract_kiti/0005/lidar/lidar_'+ str(n) + '.npy')\n",
    "gt_box = np.load('./extract_kiti/0005/gt_boxes3d/gt_boxes3d_'+ str(n) + '.npy')\n",
    "#view, box = cylindrical_projection_for_training(lidar, gt_box)\n",
    "#print(view.shape, box.shape)"
   ]
  },
  {
   "cell_type": "code",
   "execution_count": 4,
   "metadata": {
    "collapsed": false
   },
   "outputs": [
    {
     "name": "stdout",
     "output_type": "stream",
     "text": [
      "-0.00358375819568\n"
     ]
    }
   ],
   "source": [
    "offset_range = 5*np.pi/180\n",
    "flip = 0\n",
    "offset = np.random.uniform(low=-offset_range, high=offset_range)\n",
    "#offset = -5*np.pi/180\n",
    "#offset = 0\n",
    "print(offset)\n",
    "lidar, gt_box = augmentation(offset, flip, lidar, gt_box)"
   ]
  },
  {
   "cell_type": "code",
   "execution_count": 5,
   "metadata": {
    "collapsed": true
   },
   "outputs": [],
   "source": [
    "viz_mayavi_with_labels(lidar, gt_box)"
   ]
  },
  {
   "cell_type": "code",
   "execution_count": 6,
   "metadata": {
    "collapsed": false
   },
   "outputs": [
    {
     "name": "stdout",
     "output_type": "stream",
     "text": [
      "1088\n",
      "3\n"
     ]
    }
   ],
   "source": [
    "all_boxes, cluster_boxes = predict_boxes(model,lidar, cluster = True,\n",
    "                                         seg_thres=0.5, cluster_dist = 0.2, min_dist = 1.5, neigbor_thres = 3)\n",
    "print(len(all_boxes))\n",
    "print(len(cluster_boxes))"
   ]
  },
  {
   "cell_type": "code",
   "execution_count": 7,
   "metadata": {
    "collapsed": false
   },
   "outputs": [
    {
     "name": "stdout",
     "output_type": "stream",
     "text": [
      "[ 951  380   70  313  898  540  664  958 1070  615  874 1052  139  968  812\n",
      "  898  329  398  752  653  214  825  436  867 1023  451  516  720  803  144]\n"
     ]
    }
   ],
   "source": [
    "n_boxes = len(all_boxes)\n",
    "choosen_boxes = np.random.randint(n_boxes, size = 30)\n",
    "print(choosen_boxes)\n",
    "viz_mayavi_with_labels(lidar, all_boxes[choosen_boxes])"
   ]
  },
  {
   "cell_type": "code",
   "execution_count": 8,
   "metadata": {
    "collapsed": false
   },
   "outputs": [],
   "source": [
    "#print(len(cluster_boxes))\n",
    "viz_mayavi_with_labels(lidar, cluster_boxes)"
   ]
  },
  {
   "cell_type": "code",
   "execution_count": null,
   "metadata": {
    "collapsed": true
   },
   "outputs": [],
   "source": []
  }
 ],
 "metadata": {
  "anaconda-cloud": {},
  "kernelspec": {
   "display_name": "Python [conda env:tf_py27]",
   "language": "python",
   "name": "conda-env-tf_py27-py"
  },
  "language_info": {
   "codemirror_mode": {
    "name": "ipython",
    "version": 2
   },
   "file_extension": ".py",
   "mimetype": "text/x-python",
   "name": "python",
   "nbconvert_exporter": "python",
   "pygments_lexer": "ipython2",
   "version": "2.7.13"
  }
 },
 "nbformat": 4,
 "nbformat_minor": 2
}
