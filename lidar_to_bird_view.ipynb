{
 "cells": [
  {
   "cell_type": "code",
   "execution_count": 1,
   "metadata": {
    "collapsed": true
   },
   "outputs": [],
   "source": [
    "from PIL import Image\n",
    "import numpy as np\n",
    "import os\n",
    "\n",
    "# ==============================================================================\n",
    "#                                                                   SCALE_TO_255\n",
    "# ==============================================================================\n",
    "def scale_to_255(a, min, max, dtype=np.uint8):\n",
    "    \"\"\" Scales an array of values from specified min, max range to 0-255\n",
    "        Optionally specify the data type of the output (default is uint8)\n",
    "    \"\"\"\n",
    "    return (((a - min) / float(max - min)) * 255).astype(dtype)\n",
    "\n",
    "\n",
    "# ==============================================================================\n",
    "#                                                          BIRDS_EYE_POINT_CLOUD\n",
    "# ==============================================================================\n",
    "def birds_eye_point_cloud(points,\n",
    "                          side_range=(-10, 10),\n",
    "                          fwd_range=(-10,10),\n",
    "                          res=0.1,\n",
    "                          min_height = -2.73,\n",
    "                          max_height = 1.27,\n",
    "                          saveto=None):\n",
    "    \"\"\" Creates an 2D birds eye view representation of the point cloud data.\n",
    "        You can optionally save the image to specified filename.\n",
    "\n",
    "    Args:\n",
    "        points:     (numpy array)\n",
    "                    N rows of points data\n",
    "                    Each point should be specified by at least 3 elements x,y,z\n",
    "        side_range: (tuple of two floats)\n",
    "                    (-left, right) in metres\n",
    "                    left and right limits of rectangle to look at.\n",
    "        fwd_range:  (tuple of two floats)\n",
    "                    (-behind, front) in metres\n",
    "                    back and front limits of rectangle to look at.\n",
    "        res:        (float) desired resolution in metres to use\n",
    "                    Each output pixel will represent an square region res x res\n",
    "                    in size.\n",
    "        min_height:  (float)(default=-2.73)\n",
    "                    Used to truncate height values to this minumum height\n",
    "                    relative to the sensor (in metres).\n",
    "                    The default is set to -2.73, which is 1 metre below a flat\n",
    "                    road surface given the configuration in the kitti dataset.\n",
    "        max_height: (float)(default=1.27)\n",
    "                    Used to truncate height values to this maximum height\n",
    "                    relative to the sensor (in metres).\n",
    "                    The default is set to 1.27, which is 3m above a flat road\n",
    "                    surface given the configuration in the kitti dataset.\n",
    "        saveto:     (str or None)(default=None)\n",
    "                    Filename to save the image as.\n",
    "                    If None, then it just displays the image.\n",
    "    \"\"\"\n",
    "    x_lidar = points[:, 0]\n",
    "    y_lidar = points[:, 1]\n",
    "    z_lidar = points[:, 2]\n",
    "    # r_lidar = points[:, 3]  # Reflectance\n",
    "\n",
    "    # INDICES FILTER - of values within the desired rectangle\n",
    "    # Note left side is positive y axis in LIDAR coordinates\n",
    "    ff = np.logical_and((x_lidar > fwd_range[0]), (x_lidar < fwd_range[1]))\n",
    "    ss = np.logical_and((y_lidar > -side_range[1]), (y_lidar < -side_range[0]))\n",
    "    indices = np.argwhere(np.logical_and(ff,ss)).flatten()\n",
    "\n",
    "    # CONVERT TO PIXEL POSITION VALUES - Based on resolution\n",
    "    x_img = (-y_lidar[indices]/res).astype(np.int32) # x axis is -y in LIDAR\n",
    "    y_img = (x_lidar[indices]/res).astype(np.int32)  # y axis is -x in LIDAR\n",
    "                                                     # will be inverted later\n",
    "\n",
    "    # SHIFT PIXELS TO HAVE MINIMUM BE (0,0)\n",
    "    # floor used to prevent issues with -ve vals rounding upwards\n",
    "    x_img -= int(np.floor(side_range[0]/res))\n",
    "    y_img -= int(np.floor(fwd_range[0]/res))\n",
    "\n",
    "    # CLIP HEIGHT VALUES - to between min and max heights\n",
    "    pixel_values = np.clip(a = z_lidar[indices],\n",
    "                           a_min=min_height,\n",
    "                           a_max=max_height)\n",
    "\n",
    "    # RESCALE THE HEIGHT VALUES - to be between the range 0-255\n",
    "    pixel_values  = scale_to_255(pixel_values, min=min_height, max=max_height)\n",
    "\n",
    "    # FILL PIXEL VALUES IN IMAGE ARRAY\n",
    "    x_max = int((side_range[1] - side_range[0])/res)\n",
    "    y_max = int((fwd_range[1] - fwd_range[0])/res)\n",
    "    im = np.zeros([y_max, x_max], dtype=np.uint8)\n",
    "    im[-y_img, x_img] = pixel_values # -y because images start from top left\n",
    "\n",
    "    # Convert from numpy array to a PIL image\n",
    "    im = Image.fromarray(im)\n",
    "\n",
    "    # SAVE THE IMAGE\n",
    "    if saveto is not None:\n",
    "        im.save(saveto)\n",
    "    else:\n",
    "        im.show()"
   ]
  },
  {
   "cell_type": "markdown",
   "metadata": {
    "collapsed": true
   },
   "source": [
    "lidar_test = np.load('./data/ped_test/lidar_2000.npy')\n",
    "birds_eye_point_cloud(lidar_test,\n",
    "                      side_range=(-25, 25),\n",
    "                      fwd_range=(-25,25),\n",
    "                      res=0.1,\n",
    "                      min_height = -5,\n",
    "                      max_height = 15,\n",
    "                      saveto = './data/ped_test_top_view/lidar_2000.png')"
   ]
  },
  {
   "cell_type": "markdown",
   "metadata": {
    "collapsed": false
   },
   "source": [
    "n = len(os.listdir('./data/ped_test/'))\n",
    "print(n)"
   ]
  },
  {
   "cell_type": "code",
   "execution_count": 5,
   "metadata": {
    "collapsed": false
   },
   "outputs": [
    {
     "name": "stdout",
     "output_type": "stream",
     "text": [
      "Finished folderford04\n",
      "Finished folderford01\n",
      "Finished folderford05\n",
      "Finished folderford02\n",
      "Finished foldermustang01\n",
      "Finished folderford03\n",
      "Finished folderford07\n",
      "Finished folderford06\n"
     ]
    }
   ],
   "source": [
    "car_dir = './data/test_cars/'\n",
    "saved_car_dir = './data/test_cars_top_view/'\n",
    "for folder in os.listdir(car_dir):\n",
    "    \n",
    "    saved_dir = saved_car_dir + folder\n",
    "    if not os.path.exists(saved_dir):\n",
    "        os.mkdir(saved_dir)\n",
    "    \n",
    "    n = len(os.listdir(car_dir+folder))\n",
    "    for i in range(n):\n",
    "        lidar_test = np.load(car_dir + folder + '/lidar_' + str(i)+ '.npy')\n",
    "        birds_eye_point_cloud(lidar_test,\n",
    "                          side_range=(-25, 25),\n",
    "                          fwd_range=(-25,25),\n",
    "                          res=0.1,\n",
    "                          min_height = -5,\n",
    "                          max_height = 15,\n",
    "                          saveto = saved_dir + '/lidar_'+str(i)+'.png')\n",
    "    print('Finished folder' + folder)"
   ]
  },
  {
   "cell_type": "code",
   "execution_count": 8,
   "metadata": {
    "collapsed": false
   },
   "outputs": [
    {
     "name": "stdout",
     "output_type": "stream",
     "text": [
      "Finished 0 frame\n",
      "Finished 100 frame\n",
      "Finished 200 frame\n",
      "Finished 300 frame\n",
      "Finished 400 frame\n",
      "Finished 500 frame\n",
      "Finished 600 frame\n",
      "Finished 700 frame\n",
      "Finished 800 frame\n",
      "Finished 900 frame\n",
      "Finished 1000 frame\n",
      "Finished 1100 frame\n",
      "Finished 1200 frame\n",
      "Finished 1300 frame\n",
      "Finished 1400 frame\n",
      "Finished 1500 frame\n",
      "Finished 1600 frame\n",
      "Finished 1700 frame\n",
      "Finished 1800 frame\n",
      "Finished 1900 frame\n",
      "Finished 2000 frame\n",
      "Finished 2100 frame\n",
      "Finished 2200 frame\n",
      "Finished 2300 frame\n",
      "Finished 2400 frame\n",
      "Finished 2500 frame\n",
      "Finished 2600 frame\n",
      "Finished 2700 frame\n",
      "Finished 2800 frame\n",
      "Finished 2900 frame\n",
      "Finished 3000 frame\n",
      "Finished 3100 frame\n",
      "Finished 3200 frame\n",
      "Finished 3300 frame\n",
      "Finished 3400 frame\n",
      "Finished 3500 frame\n",
      "Finished 3600 frame\n",
      "Finished 3700 frame\n",
      "Finished 3800 frame\n",
      "Finished 3900 frame\n",
      "Finished 4000 frame\n",
      "Finished 4100 frame\n",
      "Finished 4200 frame\n",
      "Finished 4300 frame\n",
      "Finished 4400 frame\n",
      "Finished 4500 frame\n",
      "Finished 4600 frame\n",
      "Finished 4700 frame\n",
      "Finished 4800 frame\n",
      "Finished 4900 frame\n",
      "Finished 5000 frame\n",
      "Finished 5100 frame\n",
      "Finished 5200 frame\n",
      "Finished 5300 frame\n",
      "Finished 5400 frame\n",
      "Finished 5500 frame\n",
      "Finished 5600 frame\n",
      "Finished 5700 frame\n",
      "Finished 5800 frame\n",
      "Finished 5900 frame\n",
      "Finished 6000 frame\n",
      "Finished 6100 frame\n",
      "Finished 6200 frame\n",
      "Finished 6300 frame\n",
      "Finished 6400 frame\n",
      "Finished 6500 frame\n",
      "Finished 6600 frame\n",
      "Finished 6700 frame\n",
      "Finished 6800 frame\n",
      "Finished 6900 frame\n"
     ]
    }
   ],
   "source": [
    "\n",
    "\n",
    "for i in range(n):\n",
    "    lidar_test = np.load('./data/ped_test/lidar_' + str(i)+ '.npy')\n",
    "    birds_eye_point_cloud(lidar_test,\n",
    "                      side_range=(-25, 25),\n",
    "                      fwd_range=(-25,25),\n",
    "                      res=0.1,\n",
    "                      min_height = -5,\n",
    "                      max_height = 15,\n",
    "                      saveto = './data/ped_test_top_view/lidar_'+str(i)+'.png')\n",
    "    if i%100 == 0:\n",
    "        print('Finished {0} frame'.format(i))"
   ]
  },
  {
   "cell_type": "code",
   "execution_count": 9,
   "metadata": {
    "collapsed": false
   },
   "outputs": [
    {
     "name": "stdout",
     "output_type": "stream",
     "text": [
      "(500, 500)\n"
     ]
    }
   ],
   "source": [
    "import matplotlib.image as mpimg\n",
    "img = mpimg.imread('./data/ped_test_top_view/lidar_0.png')\n",
    "print(img.shape)"
   ]
  },
  {
   "cell_type": "markdown",
   "metadata": {},
   "source": [
    "ffmpeg -r 60 -f image2 -s 500x500 -i lidar_%d.png -vcodec libx264 -crf 25  -pix_fmt yuv420p test.mp4"
   ]
  }
 ],
 "metadata": {
  "anaconda-cloud": {},
  "kernelspec": {
   "display_name": "Python [conda env:tf_py27]",
   "language": "python",
   "name": "conda-env-tf_py27-py"
  },
  "language_info": {
   "codemirror_mode": {
    "name": "ipython",
    "version": 2
   },
   "file_extension": ".py",
   "mimetype": "text/x-python",
   "name": "python",
   "nbconvert_exporter": "python",
   "pygments_lexer": "ipython2",
   "version": "2.7.13"
  }
 },
 "nbformat": 4,
 "nbformat_minor": 1
}
